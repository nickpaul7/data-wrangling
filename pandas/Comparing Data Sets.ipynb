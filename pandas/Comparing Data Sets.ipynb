{
 "cells": [
  {
   "cell_type": "code",
   "execution_count": 59,
   "id": "outer-director",
   "metadata": {},
   "outputs": [],
   "source": [
    "import pandas as pd\n",
    "import json\n",
    "import random"
   ]
  },
  {
   "cell_type": "markdown",
   "id": "pleasant-migration",
   "metadata": {},
   "source": [
    "* Search results without a document ID\n",
    "* Document ID without a file name\n",
    "* Missing filenames from cube\n",
    "\n",
    "\n",
    "\n",
    "## Reports\n",
    "* Assessment profile of CHS\n",
    "* collected documents by case code"
   ]
  },
  {
   "cell_type": "code",
   "execution_count": 135,
   "id": "thousand-newfoundland",
   "metadata": {},
   "outputs": [
    {
     "data": {
      "text/plain": [
       "'S-4272988.pdf'"
      ]
     },
     "execution_count": 135,
     "metadata": {},
     "output_type": "execute_result"
    }
   ],
   "source": [
    "def create_pdf():\n",
    "    val = 'S-'\n",
    "    for i in range(0,7):\n",
    "        val += str(random.randint(0,9))\n",
    "        \n",
    "    return val + '.pdf'\n",
    "create_val()"
   ]
  },
  {
   "cell_type": "code",
   "execution_count": 136,
   "id": "efficient-coverage",
   "metadata": {},
   "outputs": [
    {
     "data": {
      "text/plain": [
       "'4384479'"
      ]
     },
     "execution_count": 136,
     "metadata": {},
     "output_type": "execute_result"
    }
   ],
   "source": [
    "def create_id():\n",
    "    val = ''\n",
    "    for i in range(0,7):\n",
    "        val += str(random.randint(0,9))\n",
    "        \n",
    "    return val \n",
    "create_id()"
   ]
  },
  {
   "cell_type": "code",
   "execution_count": 288,
   "id": "configured-teaching",
   "metadata": {},
   "outputs": [
    {
     "data": {
      "text/plain": [
       "'S-50818040'"
      ]
     },
     "execution_count": 288,
     "metadata": {},
     "output_type": "execute_result"
    }
   ],
   "source": [
    "def get_id():\n",
    "    val= \"S-\"\n",
    "    for i in range(0,8):\n",
    "        val += str(random.randint(0,9))\n",
    "        \n",
    "    return val\n",
    "get_id()"
   ]
  },
  {
   "cell_type": "code",
   "execution_count": 137,
   "id": "welcome-diagnosis",
   "metadata": {},
   "outputs": [
    {
     "data": {
      "text/plain": [
       "0.7360657151226545"
      ]
     },
     "execution_count": 137,
     "metadata": {},
     "output_type": "execute_result"
    }
   ],
   "source": [
    "random.random()"
   ]
  },
  {
   "cell_type": "code",
   "execution_count": 138,
   "id": "eight-serial",
   "metadata": {},
   "outputs": [
    {
     "data": {
      "text/plain": [
       "12000"
      ]
     },
     "execution_count": 138,
     "metadata": {},
     "output_type": "execute_result"
    }
   ],
   "source": [
    "documents = []\n",
    "\n",
    "for i in range(0,12000):\n",
    "    if random.random() >.1:\n",
    "        document = {\"document_id\" : create_id(),\n",
    "                     \"filename\": create_val()\n",
    "                     }\n",
    "    else:\n",
    "        document = {\"document_id\" : create_id(),\n",
    "                     \"filename\": None\n",
    "                     }\n",
    "    documents.append(document)\n",
    "\n",
    "    \n",
    "len(documents)"
   ]
  },
  {
   "cell_type": "code",
   "execution_count": 53,
   "id": "smaller-young",
   "metadata": {},
   "outputs": [
    {
     "data": {
      "text/plain": [
       "'test'"
      ]
     },
     "execution_count": 53,
     "metadata": {},
     "output_type": "execute_result"
    }
   ],
   "source": [
    "\"test.pdf\".replace(\".pdf\", \"\")"
   ]
  },
  {
   "cell_type": "code",
   "execution_count": 139,
   "id": "compressed-transcript",
   "metadata": {},
   "outputs": [
    {
     "data": {
      "text/plain": [
       "9000"
      ]
     },
     "execution_count": 139,
     "metadata": {},
     "output_type": "execute_result"
    }
   ],
   "source": [
    "bi_cube = [{'filename':record['filename'].replace('.pdf', \"\")} for record in random.sample(documents, 10000) if record['filename'] is not None]\n",
    "\n",
    "len(bi_cube)"
   ]
  },
  {
   "cell_type": "code",
   "execution_count": 140,
   "id": "facial-edition",
   "metadata": {},
   "outputs": [
    {
     "data": {
      "text/plain": [
       "11000"
      ]
     },
     "execution_count": 140,
     "metadata": {},
     "output_type": "execute_result"
    }
   ],
   "source": [
    "for i in range(0,2000):\n",
    "  bi_cube.append({'filename':create_pdf().replace('.pdf', \"\")})\n",
    "\n",
    "\n",
    "len(bi_cube)"
   ]
  },
  {
   "cell_type": "code",
   "execution_count": 141,
   "id": "beginning-folder",
   "metadata": {},
   "outputs": [],
   "source": [
    "df_documents = pd.json_normalize(documents)\n",
    "df_bi_cube = pd.DataFrame(bi_cube)"
   ]
  },
  {
   "cell_type": "markdown",
   "id": "complex-airplane",
   "metadata": {},
   "source": [
    "## No Filename"
   ]
  },
  {
   "cell_type": "code",
   "execution_count": 142,
   "id": "charged-potter",
   "metadata": {},
   "outputs": [
    {
     "data": {
      "text/plain": [
       "document_id    1197\n",
       "filename          0\n",
       "dtype: int64"
      ]
     },
     "execution_count": 142,
     "metadata": {},
     "output_type": "execute_result"
    }
   ],
   "source": [
    "no_id = df_documents.query(\"filename.isna()\")\n",
    "no_id.count()"
   ]
  },
  {
   "cell_type": "code",
   "execution_count": 143,
   "id": "rational-parliament",
   "metadata": {
    "scrolled": true
   },
   "outputs": [
    {
     "name": "stderr",
     "output_type": "stream",
     "text": [
      "<ipython-input-143-486920bfed04>:1: FutureWarning: The default value of regex will change from True to False in a future version.\n",
      "  df_documents['bi_key'] = df_documents['filename'].str.replace(\".pdf\", \"\")\n"
     ]
    },
    {
     "data": {
      "text/html": [
       "<div>\n",
       "<style scoped>\n",
       "    .dataframe tbody tr th:only-of-type {\n",
       "        vertical-align: middle;\n",
       "    }\n",
       "\n",
       "    .dataframe tbody tr th {\n",
       "        vertical-align: top;\n",
       "    }\n",
       "\n",
       "    .dataframe thead th {\n",
       "        text-align: right;\n",
       "    }\n",
       "</style>\n",
       "<table border=\"1\" class=\"dataframe\">\n",
       "  <thead>\n",
       "    <tr style=\"text-align: right;\">\n",
       "      <th></th>\n",
       "      <th>document_id</th>\n",
       "      <th>filename</th>\n",
       "      <th>bi_key</th>\n",
       "    </tr>\n",
       "  </thead>\n",
       "  <tbody>\n",
       "    <tr>\n",
       "      <th>0</th>\n",
       "      <td>5486842</td>\n",
       "      <td>S-9939003.pdf</td>\n",
       "      <td>S-9939003</td>\n",
       "    </tr>\n",
       "    <tr>\n",
       "      <th>1</th>\n",
       "      <td>7672798</td>\n",
       "      <td>S-8111022.pdf</td>\n",
       "      <td>S-8111022</td>\n",
       "    </tr>\n",
       "    <tr>\n",
       "      <th>2</th>\n",
       "      <td>3984947</td>\n",
       "      <td>S-7192012.pdf</td>\n",
       "      <td>S-7192012</td>\n",
       "    </tr>\n",
       "    <tr>\n",
       "      <th>3</th>\n",
       "      <td>8711919</td>\n",
       "      <td>S-8968700.pdf</td>\n",
       "      <td>S-8968700</td>\n",
       "    </tr>\n",
       "    <tr>\n",
       "      <th>4</th>\n",
       "      <td>2447689</td>\n",
       "      <td>S-2939041.pdf</td>\n",
       "      <td>S-2939041</td>\n",
       "    </tr>\n",
       "    <tr>\n",
       "      <th>...</th>\n",
       "      <td>...</td>\n",
       "      <td>...</td>\n",
       "      <td>...</td>\n",
       "    </tr>\n",
       "    <tr>\n",
       "      <th>11995</th>\n",
       "      <td>0217217</td>\n",
       "      <td>S-9380424.pdf</td>\n",
       "      <td>S-9380424</td>\n",
       "    </tr>\n",
       "    <tr>\n",
       "      <th>11996</th>\n",
       "      <td>5542042</td>\n",
       "      <td>S-0318126.pdf</td>\n",
       "      <td>S-0318126</td>\n",
       "    </tr>\n",
       "    <tr>\n",
       "      <th>11997</th>\n",
       "      <td>6056644</td>\n",
       "      <td>S-5484044.pdf</td>\n",
       "      <td>S-5484044</td>\n",
       "    </tr>\n",
       "    <tr>\n",
       "      <th>11998</th>\n",
       "      <td>4359405</td>\n",
       "      <td>S-3895291.pdf</td>\n",
       "      <td>S-3895291</td>\n",
       "    </tr>\n",
       "    <tr>\n",
       "      <th>11999</th>\n",
       "      <td>8933496</td>\n",
       "      <td>S-8314721.pdf</td>\n",
       "      <td>S-8314721</td>\n",
       "    </tr>\n",
       "  </tbody>\n",
       "</table>\n",
       "<p>12000 rows × 3 columns</p>\n",
       "</div>"
      ],
      "text/plain": [
       "      document_id       filename     bi_key\n",
       "0         5486842  S-9939003.pdf  S-9939003\n",
       "1         7672798  S-8111022.pdf  S-8111022\n",
       "2         3984947  S-7192012.pdf  S-7192012\n",
       "3         8711919  S-8968700.pdf  S-8968700\n",
       "4         2447689  S-2939041.pdf  S-2939041\n",
       "...           ...            ...        ...\n",
       "11995     0217217  S-9380424.pdf  S-9380424\n",
       "11996     5542042  S-0318126.pdf  S-0318126\n",
       "11997     6056644  S-5484044.pdf  S-5484044\n",
       "11998     4359405  S-3895291.pdf  S-3895291\n",
       "11999     8933496  S-8314721.pdf  S-8314721\n",
       "\n",
       "[12000 rows x 3 columns]"
      ]
     },
     "execution_count": 143,
     "metadata": {},
     "output_type": "execute_result"
    }
   ],
   "source": [
    "df_documents['bi_key'] = df_documents['filename'].str.replace(\".pdf\", \"\")\n",
    "df_documents"
   ]
  },
  {
   "cell_type": "code",
   "execution_count": 145,
   "id": "optional-interest",
   "metadata": {},
   "outputs": [
    {
     "data": {
      "text/html": [
       "<div>\n",
       "<style scoped>\n",
       "    .dataframe tbody tr th:only-of-type {\n",
       "        vertical-align: middle;\n",
       "    }\n",
       "\n",
       "    .dataframe tbody tr th {\n",
       "        vertical-align: top;\n",
       "    }\n",
       "\n",
       "    .dataframe thead th {\n",
       "        text-align: right;\n",
       "    }\n",
       "</style>\n",
       "<table border=\"1\" class=\"dataframe\">\n",
       "  <thead>\n",
       "    <tr style=\"text-align: right;\">\n",
       "      <th></th>\n",
       "      <th>document_id</th>\n",
       "      <th>filename</th>\n",
       "      <th>bi_key</th>\n",
       "    </tr>\n",
       "  </thead>\n",
       "  <tbody>\n",
       "    <tr>\n",
       "      <th>7</th>\n",
       "      <td>9544205</td>\n",
       "      <td>None</td>\n",
       "      <td>None</td>\n",
       "    </tr>\n",
       "    <tr>\n",
       "      <th>11</th>\n",
       "      <td>0152428</td>\n",
       "      <td>None</td>\n",
       "      <td>None</td>\n",
       "    </tr>\n",
       "    <tr>\n",
       "      <th>20</th>\n",
       "      <td>5139585</td>\n",
       "      <td>None</td>\n",
       "      <td>None</td>\n",
       "    </tr>\n",
       "    <tr>\n",
       "      <th>22</th>\n",
       "      <td>5920199</td>\n",
       "      <td>None</td>\n",
       "      <td>None</td>\n",
       "    </tr>\n",
       "    <tr>\n",
       "      <th>31</th>\n",
       "      <td>8041490</td>\n",
       "      <td>None</td>\n",
       "      <td>None</td>\n",
       "    </tr>\n",
       "    <tr>\n",
       "      <th>...</th>\n",
       "      <td>...</td>\n",
       "      <td>...</td>\n",
       "      <td>...</td>\n",
       "    </tr>\n",
       "    <tr>\n",
       "      <th>11940</th>\n",
       "      <td>2322590</td>\n",
       "      <td>None</td>\n",
       "      <td>None</td>\n",
       "    </tr>\n",
       "    <tr>\n",
       "      <th>11942</th>\n",
       "      <td>4128006</td>\n",
       "      <td>None</td>\n",
       "      <td>None</td>\n",
       "    </tr>\n",
       "    <tr>\n",
       "      <th>11943</th>\n",
       "      <td>8093059</td>\n",
       "      <td>None</td>\n",
       "      <td>None</td>\n",
       "    </tr>\n",
       "    <tr>\n",
       "      <th>11954</th>\n",
       "      <td>4107928</td>\n",
       "      <td>None</td>\n",
       "      <td>None</td>\n",
       "    </tr>\n",
       "    <tr>\n",
       "      <th>11992</th>\n",
       "      <td>3116485</td>\n",
       "      <td>None</td>\n",
       "      <td>None</td>\n",
       "    </tr>\n",
       "  </tbody>\n",
       "</table>\n",
       "<p>1197 rows × 3 columns</p>\n",
       "</div>"
      ],
      "text/plain": [
       "      document_id filename bi_key\n",
       "7         9544205     None   None\n",
       "11        0152428     None   None\n",
       "20        5139585     None   None\n",
       "22        5920199     None   None\n",
       "31        8041490     None   None\n",
       "...           ...      ...    ...\n",
       "11940     2322590     None   None\n",
       "11942     4128006     None   None\n",
       "11943     8093059     None   None\n",
       "11954     4107928     None   None\n",
       "11992     3116485     None   None\n",
       "\n",
       "[1197 rows x 3 columns]"
      ]
     },
     "execution_count": 145,
     "metadata": {},
     "output_type": "execute_result"
    }
   ],
   "source": [
    "no_id = df_documents.query(\"bi_key.isna()\")\n",
    "no_id"
   ]
  },
  {
   "cell_type": "code",
   "execution_count": 146,
   "id": "inappropriate-apache",
   "metadata": {},
   "outputs": [
    {
     "data": {
      "text/html": [
       "<div>\n",
       "<style scoped>\n",
       "    .dataframe tbody tr th:only-of-type {\n",
       "        vertical-align: middle;\n",
       "    }\n",
       "\n",
       "    .dataframe tbody tr th {\n",
       "        vertical-align: top;\n",
       "    }\n",
       "\n",
       "    .dataframe thead th {\n",
       "        text-align: right;\n",
       "    }\n",
       "</style>\n",
       "<table border=\"1\" class=\"dataframe\">\n",
       "  <thead>\n",
       "    <tr style=\"text-align: right;\">\n",
       "      <th></th>\n",
       "      <th>filename</th>\n",
       "      <th>bi_key</th>\n",
       "    </tr>\n",
       "  </thead>\n",
       "  <tbody>\n",
       "    <tr>\n",
       "      <th>0</th>\n",
       "      <td>S-7073051</td>\n",
       "      <td>S-7073051</td>\n",
       "    </tr>\n",
       "    <tr>\n",
       "      <th>1</th>\n",
       "      <td>S-7510814</td>\n",
       "      <td>S-7510814</td>\n",
       "    </tr>\n",
       "    <tr>\n",
       "      <th>2</th>\n",
       "      <td>S-5811962</td>\n",
       "      <td>S-5811962</td>\n",
       "    </tr>\n",
       "    <tr>\n",
       "      <th>3</th>\n",
       "      <td>S-9750771</td>\n",
       "      <td>S-9750771</td>\n",
       "    </tr>\n",
       "    <tr>\n",
       "      <th>4</th>\n",
       "      <td>S-0237193</td>\n",
       "      <td>S-0237193</td>\n",
       "    </tr>\n",
       "    <tr>\n",
       "      <th>...</th>\n",
       "      <td>...</td>\n",
       "      <td>...</td>\n",
       "    </tr>\n",
       "    <tr>\n",
       "      <th>10995</th>\n",
       "      <td>S-2929034</td>\n",
       "      <td>S-2929034</td>\n",
       "    </tr>\n",
       "    <tr>\n",
       "      <th>10996</th>\n",
       "      <td>S-5808741</td>\n",
       "      <td>S-5808741</td>\n",
       "    </tr>\n",
       "    <tr>\n",
       "      <th>10997</th>\n",
       "      <td>S-0473239</td>\n",
       "      <td>S-0473239</td>\n",
       "    </tr>\n",
       "    <tr>\n",
       "      <th>10998</th>\n",
       "      <td>S-4404193</td>\n",
       "      <td>S-4404193</td>\n",
       "    </tr>\n",
       "    <tr>\n",
       "      <th>10999</th>\n",
       "      <td>S-7883436</td>\n",
       "      <td>S-7883436</td>\n",
       "    </tr>\n",
       "  </tbody>\n",
       "</table>\n",
       "<p>11000 rows × 2 columns</p>\n",
       "</div>"
      ],
      "text/plain": [
       "        filename     bi_key\n",
       "0      S-7073051  S-7073051\n",
       "1      S-7510814  S-7510814\n",
       "2      S-5811962  S-5811962\n",
       "3      S-9750771  S-9750771\n",
       "4      S-0237193  S-0237193\n",
       "...          ...        ...\n",
       "10995  S-2929034  S-2929034\n",
       "10996  S-5808741  S-5808741\n",
       "10997  S-0473239  S-0473239\n",
       "10998  S-4404193  S-4404193\n",
       "10999  S-7883436  S-7883436\n",
       "\n",
       "[11000 rows x 2 columns]"
      ]
     },
     "execution_count": 146,
     "metadata": {},
     "output_type": "execute_result"
    }
   ],
   "source": [
    "df_bi_cube['bi_key'] = df_bi_cube['filename']\n",
    "df_bi_cube"
   ]
  },
  {
   "cell_type": "code",
   "execution_count": 150,
   "id": "together-router",
   "metadata": {},
   "outputs": [
    {
     "data": {
      "text/html": [
       "<div>\n",
       "<style scoped>\n",
       "    .dataframe tbody tr th:only-of-type {\n",
       "        vertical-align: middle;\n",
       "    }\n",
       "\n",
       "    .dataframe tbody tr th {\n",
       "        vertical-align: top;\n",
       "    }\n",
       "\n",
       "    .dataframe thead th {\n",
       "        text-align: right;\n",
       "    }\n",
       "</style>\n",
       "<table border=\"1\" class=\"dataframe\">\n",
       "  <thead>\n",
       "    <tr style=\"text-align: right;\">\n",
       "      <th></th>\n",
       "      <th>bi_key</th>\n",
       "      <th>document_id</th>\n",
       "      <th>filename_docs</th>\n",
       "      <th>filename_cube</th>\n",
       "    </tr>\n",
       "  </thead>\n",
       "  <tbody>\n",
       "    <tr>\n",
       "      <th>0</th>\n",
       "      <td>S-0001258</td>\n",
       "      <td>0696682</td>\n",
       "      <td>S-0001258.pdf</td>\n",
       "      <td>S-0001258</td>\n",
       "    </tr>\n",
       "    <tr>\n",
       "      <th>1</th>\n",
       "      <td>S-0001449</td>\n",
       "      <td>3736863</td>\n",
       "      <td>S-0001449.pdf</td>\n",
       "      <td>S-0001449</td>\n",
       "    </tr>\n",
       "    <tr>\n",
       "      <th>2</th>\n",
       "      <td>S-0002730</td>\n",
       "      <td>NaN</td>\n",
       "      <td>NaN</td>\n",
       "      <td>S-0002730</td>\n",
       "    </tr>\n",
       "    <tr>\n",
       "      <th>3</th>\n",
       "      <td>S-0003529</td>\n",
       "      <td>2211002</td>\n",
       "      <td>S-0003529.pdf</td>\n",
       "      <td>S-0003529</td>\n",
       "    </tr>\n",
       "    <tr>\n",
       "      <th>4</th>\n",
       "      <td>S-0003651</td>\n",
       "      <td>4530939</td>\n",
       "      <td>S-0003651.pdf</td>\n",
       "      <td>S-0003651</td>\n",
       "    </tr>\n",
       "    <tr>\n",
       "      <th>...</th>\n",
       "      <td>...</td>\n",
       "      <td>...</td>\n",
       "      <td>...</td>\n",
       "      <td>...</td>\n",
       "    </tr>\n",
       "    <tr>\n",
       "      <th>14005</th>\n",
       "      <td>None</td>\n",
       "      <td>2322590</td>\n",
       "      <td>None</td>\n",
       "      <td>NaN</td>\n",
       "    </tr>\n",
       "    <tr>\n",
       "      <th>14006</th>\n",
       "      <td>None</td>\n",
       "      <td>4128006</td>\n",
       "      <td>None</td>\n",
       "      <td>NaN</td>\n",
       "    </tr>\n",
       "    <tr>\n",
       "      <th>14007</th>\n",
       "      <td>None</td>\n",
       "      <td>8093059</td>\n",
       "      <td>None</td>\n",
       "      <td>NaN</td>\n",
       "    </tr>\n",
       "    <tr>\n",
       "      <th>14008</th>\n",
       "      <td>None</td>\n",
       "      <td>4107928</td>\n",
       "      <td>None</td>\n",
       "      <td>NaN</td>\n",
       "    </tr>\n",
       "    <tr>\n",
       "      <th>14009</th>\n",
       "      <td>None</td>\n",
       "      <td>3116485</td>\n",
       "      <td>None</td>\n",
       "      <td>NaN</td>\n",
       "    </tr>\n",
       "  </tbody>\n",
       "</table>\n",
       "<p>14010 rows × 4 columns</p>\n",
       "</div>"
      ],
      "text/plain": [
       "          bi_key document_id  filename_docs filename_cube\n",
       "0      S-0001258     0696682  S-0001258.pdf     S-0001258\n",
       "1      S-0001449     3736863  S-0001449.pdf     S-0001449\n",
       "2      S-0002730         NaN            NaN     S-0002730\n",
       "3      S-0003529     2211002  S-0003529.pdf     S-0003529\n",
       "4      S-0003651     4530939  S-0003651.pdf     S-0003651\n",
       "...          ...         ...            ...           ...\n",
       "14005       None     2322590           None           NaN\n",
       "14006       None     4128006           None           NaN\n",
       "14007       None     8093059           None           NaN\n",
       "14008       None     4107928           None           NaN\n",
       "14009       None     3116485           None           NaN\n",
       "\n",
       "[14010 rows x 4 columns]"
      ]
     },
     "execution_count": 150,
     "metadata": {},
     "output_type": "execute_result"
    }
   ],
   "source": [
    "df_outer = (df_documents.set_index('bi_key')\n",
    ".join(df_bi_cube.set_index(\"bi_key\"), \n",
    "      lsuffix = \"_docs\", \n",
    "      rsuffix = \"_cube\",\n",
    "     how = \"outer\")\n",
    ".reset_index())\n",
    "df_outer\n",
    "# df_outer['bi_key'].notnull().value_counts()"
   ]
  },
  {
   "cell_type": "code",
   "execution_count": 153,
   "id": "contrary-belly",
   "metadata": {},
   "outputs": [
    {
     "name": "stdout",
     "output_type": "stream",
     "text": [
      "14010\n",
      "11000\n",
      "12000\n"
     ]
    }
   ],
   "source": [
    "print(len(df_outer))\n",
    "print(len(df_bi_cube))\n",
    "print(len(df_documents))"
   ]
  },
  {
   "cell_type": "code",
   "execution_count": 173,
   "id": "regional-basement",
   "metadata": {},
   "outputs": [],
   "source": [
    "test = {(True, False):1}\n",
    "test.get((True, True))"
   ]
  },
  {
   "cell_type": "code",
   "execution_count": 239,
   "id": "neither-pound",
   "metadata": {},
   "outputs": [
    {
     "data": {
      "text/html": [
       "<div>\n",
       "<style scoped>\n",
       "    .dataframe tbody tr th:only-of-type {\n",
       "        vertical-align: middle;\n",
       "    }\n",
       "\n",
       "    .dataframe tbody tr th {\n",
       "        vertical-align: top;\n",
       "    }\n",
       "\n",
       "    .dataframe thead th {\n",
       "        text-align: right;\n",
       "    }\n",
       "</style>\n",
       "<table border=\"1\" class=\"dataframe\">\n",
       "  <thead>\n",
       "    <tr style=\"text-align: right;\">\n",
       "      <th></th>\n",
       "      <th>False</th>\n",
       "      <th>True</th>\n",
       "    </tr>\n",
       "  </thead>\n",
       "  <tbody>\n",
       "    <tr>\n",
       "      <th>True</th>\n",
       "      <td>3</td>\n",
       "      <td>1</td>\n",
       "    </tr>\n",
       "    <tr>\n",
       "      <th>False</th>\n",
       "      <td>4</td>\n",
       "      <td>2</td>\n",
       "    </tr>\n",
       "  </tbody>\n",
       "</table>\n",
       "</div>"
      ],
      "text/plain": [
       "       False  True \n",
       "True       3      1\n",
       "False      4      2"
      ]
     },
     "execution_count": 239,
     "metadata": {},
     "output_type": "execute_result"
    }
   ],
   "source": [
    "lookup_dict = {True : \n",
    "               {True: 1,\n",
    "                False :2},\n",
    "               False:\n",
    "               {True: 3,\n",
    "               False: 4}}\n",
    " \n",
    "pd.DataFrame.from_records(lookup_dict)"
   ]
  },
  {
   "cell_type": "code",
   "execution_count": 240,
   "id": "regulation-spencer",
   "metadata": {},
   "outputs": [
    {
     "data": {
      "text/plain": [
       "'In Both'"
      ]
     },
     "execution_count": 240,
     "metadata": {},
     "output_type": "execute_result"
    }
   ],
   "source": [
    "lookup = {(True, True): \"In Both\", \n",
    "          (True, False): \"In collected docs but not from bi_cube\" ,\n",
    "          (False, True): \"In BI Cube but not collected\",\n",
    "          (False, False): \"No filename for collected doc; no match to bi_cube\"              \n",
    "          \n",
    "}\n",
    "lookup.get((True,True))"
   ]
  },
  {
   "cell_type": "code",
   "execution_count": 248,
   "id": "competitive-coordination",
   "metadata": {},
   "outputs": [
    {
     "data": {
      "text/html": [
       "<div>\n",
       "<style scoped>\n",
       "    .dataframe tbody tr th:only-of-type {\n",
       "        vertical-align: middle;\n",
       "    }\n",
       "\n",
       "    .dataframe tbody tr th {\n",
       "        vertical-align: top;\n",
       "    }\n",
       "\n",
       "    .dataframe thead th {\n",
       "        text-align: right;\n",
       "    }\n",
       "</style>\n",
       "<table border=\"1\" class=\"dataframe\">\n",
       "  <thead>\n",
       "    <tr style=\"text-align: right;\">\n",
       "      <th></th>\n",
       "      <th></th>\n",
       "      <th>var</th>\n",
       "    </tr>\n",
       "    <tr>\n",
       "      <th>filename_docs</th>\n",
       "      <th>filename_cube</th>\n",
       "      <th></th>\n",
       "    </tr>\n",
       "  </thead>\n",
       "  <tbody>\n",
       "    <tr>\n",
       "      <th rowspan=\"2\" valign=\"top\">True</th>\n",
       "      <th>True</th>\n",
       "      <td>In Both</td>\n",
       "    </tr>\n",
       "    <tr>\n",
       "      <th>False</th>\n",
       "      <td>In collected docs but not from bi_cube</td>\n",
       "    </tr>\n",
       "    <tr>\n",
       "      <th rowspan=\"2\" valign=\"top\">False</th>\n",
       "      <th>True</th>\n",
       "      <td>In BI Cube but not collected</td>\n",
       "    </tr>\n",
       "    <tr>\n",
       "      <th>False</th>\n",
       "      <td>No filename for collected doc; no match to bi_...</td>\n",
       "    </tr>\n",
       "  </tbody>\n",
       "</table>\n",
       "</div>"
      ],
      "text/plain": [
       "                                                                           var\n",
       "filename_docs filename_cube                                                   \n",
       "True          True                                                     In Both\n",
       "              False                     In collected docs but not from bi_cube\n",
       "False         True                                In BI Cube but not collected\n",
       "              False          No filename for collected doc; no match to bi_..."
      ]
     },
     "execution_count": 248,
     "metadata": {},
     "output_type": "execute_result"
    }
   ],
   "source": [
    "df_lookup = pd.DataFrame.from_dict(lookup, orient = \"index\", columns = [\"var\"])\n",
    "df_lookup.index = pd.MultiIndex.from_tuples(df_lookup.index)\n",
    "df_lookup.index.names = [\"filename_docs\", \"filename_cube\"]\n",
    "df_lookup"
   ]
  },
  {
   "cell_type": "code",
   "execution_count": 209,
   "id": "shaped-plaintiff",
   "metadata": {},
   "outputs": [],
   "source": [
    "df = pd.DataFrame(lookup, index = [1])\n",
    "df = df.melt(var_name = [\"filename_docs\", \"filename_cube\"]).set_index([\"filename_docs\", \"filename_cube\"])"
   ]
  },
  {
   "cell_type": "code",
   "execution_count": 168,
   "id": "circular-merchant",
   "metadata": {},
   "outputs": [
    {
     "data": {
      "text/plain": [
       "{True: 'In Both', False: 'In collected docs but not from bi_cube'}"
      ]
     },
     "execution_count": 168,
     "metadata": {},
     "output_type": "execute_result"
    }
   ],
   "source": [
    "lookup.get(True, False)"
   ]
  },
  {
   "cell_type": "code",
   "execution_count": 258,
   "id": "hawaiian-ferry",
   "metadata": {},
   "outputs": [
    {
     "data": {
      "text/plain": [
       "Text(0, 0.5, '')"
      ]
     },
     "execution_count": 258,
     "metadata": {},
     "output_type": "execute_result"
    },
    {
     "data": {
      "image/png": "[encoded data removed]",
      "text/plain": [
       "<Figure size 432x288 with 1 Axes>"
      ]
     },
     "metadata": {
      "needs_background": "light"
     },
     "output_type": "display_data"
    }
   ],
   "source": [
    "(df_outer\n",
    ".notnull()\n",
    ".groupby(['filename_docs', 'filename_cube'])\n",
    ".size()\n",
    ".to_frame(name='count')\n",
    "# .reset_index()\n",
    "# # .assign(x = lambda df: [(row['filename_docs'], row['filename_cube']) for index, row in df.iterrows()])\n",
    "# # .assign(y = lambda df: df['x'].apply(lambda x: lookup.get(x))) \n",
    "# .set_index([\"filename_docs\", \"filename_cube\"])\n",
    " .join(df_lookup)\n",
    " .set_index(\"var\")\n",
    " .plot.\n",
    " barh(title = \"Comparison of BI Cube and documents\")\n",
    " .set_ylabel(\"\")\n",
    ")"
   ]
  },
  {
   "cell_type": "markdown",
   "id": "urban-croatia",
   "metadata": {},
   "source": [
    "## Assessment Breakdown"
   ]
  },
  {
   "cell_type": "code",
   "execution_count": 301,
   "id": "delayed-navigator",
   "metadata": {},
   "outputs": [
    {
     "data": {
      "text/plain": [
       "2259"
      ]
     },
     "execution_count": 301,
     "metadata": {},
     "output_type": "execute_result"
    }
   ],
   "source": [
    "category = [\"Full\", \"Assessment\", None]\n",
    "weights = [.5,.4,.1]\n",
    "\n",
    "random.choices(category, weights )\n",
    "\n",
    "records = []\n",
    "\n",
    "for i in range(0,100):\n",
    "\n",
    "    x_id = get_id()\n",
    "    \n",
    "    for i in range(0, random.randint(1,45)):\n",
    "\n",
    "        record = {\"id\": x_id, \n",
    "                  \"category\" : random.choices(category, weights)[0]}\n",
    "\n",
    "        records.append(record)\n",
    "        \n",
    "len(records)   "
   ]
  },
  {
   "cell_type": "code",
   "execution_count": 302,
   "id": "sound-memorabilia",
   "metadata": {},
   "outputs": [],
   "source": [
    "for i in range(0,100):\n",
    "\n",
    "    x_id = get_id()\n",
    "    \n",
    "    for i in range(0, random.randint(1,45)):\n",
    "\n",
    "        record = {\"id\": x_id, \n",
    "                  \"category\" : 'Full'}\n",
    "\n",
    "        records.append(record)"
   ]
  },
  {
   "cell_type": "code",
   "execution_count": 303,
   "id": "biological-tragedy",
   "metadata": {},
   "outputs": [],
   "source": [
    "for i in range(0,100):\n",
    "\n",
    "    x_id = get_id()\n",
    "    \n",
    "    for i in range(0, random.randint(1,45)):\n",
    "\n",
    "        record = {\"id\": x_id, \n",
    "                  \"category\" : 'Assessment'}\n",
    "\n",
    "        records.append(record)"
   ]
  },
  {
   "cell_type": "code",
   "execution_count": 304,
   "id": "elect-rebel",
   "metadata": {},
   "outputs": [
    {
     "data": {
      "text/plain": [
       "6405"
      ]
     },
     "execution_count": 304,
     "metadata": {},
     "output_type": "execute_result"
    }
   ],
   "source": [
    "len(records)"
   ]
  },
  {
   "cell_type": "code",
   "execution_count": 334,
   "id": "usual-weather",
   "metadata": {},
   "outputs": [
    {
     "data": {
      "text/plain": [
       "Full                3180\n",
       "Assessment          2983\n",
       "missing category     242\n",
       "Name: category, dtype: int64"
      ]
     },
     "execution_count": 334,
     "metadata": {},
     "output_type": "execute_result"
    }
   ],
   "source": [
    "df_records = (pd.DataFrame(records)\n",
    ".fillna(\"missing category\")\n",
    "             )\n",
    "df_records['category'].value_counts()"
   ]
  },
  {
   "cell_type": "code",
   "execution_count": 374,
   "id": "blocked-lawyer",
   "metadata": {},
   "outputs": [
    {
     "data": {
      "text/plain": [
       "466.85"
      ]
     },
     "execution_count": 374,
     "metadata": {},
     "output_type": "execute_result"
    }
   ],
   "source": [
    "(1183.7 - 100 - 150)/2"
   ]
  },
  {
   "cell_type": "code",
   "execution_count": 379,
   "id": "seven-bangkok",
   "metadata": {},
   "outputs": [
    {
     "data": {
      "text/plain": [
       "[Text(0, 0.5, 'Percent of Reports in Assessment'),\n",
       " Text(0.5, 0, 'Count of IDs'),\n",
       " Text(0.5, 1.0, 'ID Profile')]"
      ]
     },
     "execution_count": 379,
     "metadata": {},
     "output_type": "execute_result"
    },
    {
     "data": {
      "image/png": "[encoded data removed]",
      "text/plain": [
       "<Figure size 432x288 with 1 Axes>"
      ]
     },
     "metadata": {
      "needs_background": "light"
     },
     "output_type": "display_data"
    }
   ],
   "source": [
    "(df_records\n",
    " .groupby(['id', 'category'])\n",
    " .size()\n",
    " .to_frame(name = \"value\")\n",
    " .groupby('id')\n",
    " .transform(lambda x: x/sum(x))\n",
    " .pivot_table(index = 'id',\n",
    "             columns = 'category',\n",
    "             values = 'value')\n",
    " .fillna(0)\n",
    " [['Assessment']]\n",
    " .assign(cuts = lambda x: pd.cut(x['Assessment'], [-1 ,0  ,.5,.9999, 1],\n",
    "                                         labels = [\"All Fulls\", \"More Fulls\", \"More Assessment\", \"All Assessments\"]))\n",
    " ['cuts']\n",
    " .value_counts()\n",
    " .sort_index()\n",
    " .plot\n",
    " .barh(title = \"\")\n",
    " .set(ylabel = \"Percent of Reports in Assessment\",\n",
    "      xlabel = \"Count of IDs\",\n",
    "      title = \"ID Profile\")\n",
    " \n",
    "\n",
    " \n",
    " \n",
    ")"
   ]
  },
  {
   "cell_type": "code",
   "execution_count": 380,
   "id": "wrapped-genetics",
   "metadata": {},
   "outputs": [
    {
     "data": {
      "text/plain": [
       "[Text(0, 0.5, ''), Text(0.5, 0, 'Count of IDs'), Text(0.5, 1.0, 'ID Profile')]"
      ]
     },
     "execution_count": 380,
     "metadata": {},
     "output_type": "execute_result"
    },
    {
     "data": {
      "image/png": "[encoded data removed]",
      "text/plain": [
       "<Figure size 432x288 with 1 Axes>"
      ]
     },
     "metadata": {
      "needs_background": "light"
     },
     "output_type": "display_data"
    }
   ],
   "source": [
    "(df_records\n",
    " .groupby(['id', 'category'])\n",
    " .size()\n",
    " .to_frame(name = \"value\")\n",
    " .groupby('id')\n",
    " .transform(lambda x: x/sum(x))\n",
    " .pivot_table(index = 'id',\n",
    "             columns = 'category',\n",
    "             values = 'value')\n",
    " .fillna(0)\n",
    " [['Assessment']]\n",
    " .assign(cuts = lambda x: pd.cut(x['Assessment'], [-1 ,0, .9999, 1],\n",
    "                                         labels = [\"All Fulls\", \"Mixed\", \"All Assessments\"]))\n",
    " ['cuts']\n",
    " .value_counts()\n",
    " .sort_index()\n",
    " .plot\n",
    " .barh(title = \"\")\n",
    " .set(ylabel = \"\",\n",
    "      xlabel = \"Count of IDs\",\n",
    "      title = \"ID Profile\")\n",
    " )"
   ]
  },
  {
   "cell_type": "code",
   "execution_count": null,
   "id": "induced-freedom",
   "metadata": {},
   "outputs": [],
   "source": []
  }
 ],
 "metadata": {
  "kernelspec": {
   "display_name": "Python 3",
   "language": "python",
   "name": "python3"
  },
  "language_info": {
   "codemirror_mode": {
    "name": "ipython",
    "version": 3
   },
   "file_extension": ".py",
   "mimetype": "text/x-python",
   "name": "python",
   "nbconvert_exporter": "python",
   "pygments_lexer": "ipython3",
   "version": "3.8.5"
  }
 },
 "nbformat": 4,
 "nbformat_minor": 5
}
