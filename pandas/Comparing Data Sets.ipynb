{
 "cells": [
  {
   "cell_type": "code",
   "execution_count": 14,
   "id": "outer-director",
   "metadata": {},
   "outputs": [],
   "source": [
    "import pandas as pd\n",
    "import json\n",
    "import random"
   ]
  },
  {
   "cell_type": "markdown",
   "id": "pleasant-migration",
   "metadata": {},
   "source": [
    "* Search results without a document ID\n",
    "* Document ID without a file name\n",
    "* Missing filenames from cube\n",
    "\n",
    "\n",
    "\n",
    "## Reports\n",
    "* Assessment profile of ids\n",
    "* collected documents by case code"
   ]
  },
  {
   "cell_type": "code",
   "execution_count": 15,
   "id": "thousand-newfoundland",
   "metadata": {},
   "outputs": [
    {
     "data": {
      "text/plain": [
       "'S-6943499.pdf'"
      ]
     },
     "execution_count": 15,
     "metadata": {},
     "output_type": "execute_result"
    }
   ],
   "source": [
    "def create_pdf():\n",
    "    val = 'S-'\n",
    "    for i in range(0,7):\n",
    "        val += str(random.randint(0,9))\n",
    "        \n",
    "    return val + '.pdf'\n",
    "create_pdf()"
   ]
  },
  {
   "cell_type": "code",
   "execution_count": 16,
   "id": "efficient-coverage",
   "metadata": {},
   "outputs": [
    {
     "data": {
      "text/plain": [
       "'4146397'"
      ]
     },
     "execution_count": 16,
     "metadata": {},
     "output_type": "execute_result"
    }
   ],
   "source": [
    "def create_id():\n",
    "    val = ''\n",
    "    for i in range(0,7):\n",
    "        val += str(random.randint(0,9))\n",
    "        \n",
    "    return val \n",
    "create_id()"
   ]
  },
  {
   "cell_type": "code",
   "execution_count": 17,
   "id": "configured-teaching",
   "metadata": {},
   "outputs": [
    {
     "data": {
      "text/plain": [
       "'S-88648769'"
      ]
     },
     "execution_count": 17,
     "metadata": {},
     "output_type": "execute_result"
    }
   ],
   "source": [
    "def get_id():\n",
    "    val= \"S-\"\n",
    "    for i in range(0,8):\n",
    "        val += str(random.randint(0,9))\n",
    "        \n",
    "    return val\n",
    "get_id()"
   ]
  },
  {
   "cell_type": "code",
   "execution_count": 18,
   "id": "welcome-diagnosis",
   "metadata": {},
   "outputs": [
    {
     "data": {
      "text/plain": [
       "0.30499701060345774"
      ]
     },
     "execution_count": 18,
     "metadata": {},
     "output_type": "execute_result"
    }
   ],
   "source": [
    "random.random()"
   ]
  },
  {
   "cell_type": "code",
   "execution_count": 19,
   "id": "eight-serial",
   "metadata": {},
   "outputs": [
    {
     "data": {
      "text/plain": [
       "12000"
      ]
     },
     "execution_count": 19,
     "metadata": {},
     "output_type": "execute_result"
    }
   ],
   "source": [
    "documents = []\n",
    "\n",
    "for i in range(0,12000):\n",
    "    if random.random() >.1:\n",
    "        document = {\"document_id\" : create_id(),\n",
    "                     \"filename\": create_pdf()\n",
    "                     }\n",
    "    else:\n",
    "        document = {\"document_id\" : create_id(),\n",
    "                     \"filename\": None\n",
    "                     }\n",
    "    documents.append(document)\n",
    "\n",
    "    \n",
    "len(documents)"
   ]
  },
  {
   "cell_type": "code",
   "execution_count": 20,
   "id": "smaller-young",
   "metadata": {},
   "outputs": [
    {
     "data": {
      "text/plain": [
       "'test'"
      ]
     },
     "execution_count": 20,
     "metadata": {},
     "output_type": "execute_result"
    }
   ],
   "source": [
    "\"test.pdf\".replace(\".pdf\", \"\")"
   ]
  },
  {
   "cell_type": "code",
   "execution_count": 21,
   "id": "compressed-transcript",
   "metadata": {},
   "outputs": [
    {
     "data": {
      "text/plain": [
       "9017"
      ]
     },
     "execution_count": 21,
     "metadata": {},
     "output_type": "execute_result"
    }
   ],
   "source": [
    "bi_cube = [{'filename':record['filename'].replace('.pdf', \"\")} for record in random.sample(documents, 10000) if record['filename'] is not None]\n",
    "\n",
    "len(bi_cube)"
   ]
  },
  {
   "cell_type": "code",
   "execution_count": 22,
   "id": "facial-edition",
   "metadata": {},
   "outputs": [
    {
     "data": {
      "text/plain": [
       "11017"
      ]
     },
     "execution_count": 22,
     "metadata": {},
     "output_type": "execute_result"
    }
   ],
   "source": [
    "for i in range(0,2000):\n",
    "  bi_cube.append({'filename':create_pdf().replace('.pdf', \"\")})\n",
    "\n",
    "\n",
    "len(bi_cube)"
   ]
  },
  {
   "cell_type": "code",
   "execution_count": 23,
   "id": "beginning-folder",
   "metadata": {},
   "outputs": [],
   "source": [
    "df_documents = pd.json_normalize(documents)\n",
    "df_bi_cube = pd.DataFrame(bi_cube)"
   ]
  },
  {
   "cell_type": "markdown",
   "id": "complex-airplane",
   "metadata": {},
   "source": [
    "## No Filename"
   ]
  },
  {
   "cell_type": "code",
   "execution_count": 24,
   "id": "charged-potter",
   "metadata": {},
   "outputs": [
    {
     "data": {
      "text/plain": [
       "document_id    1162\n",
       "filename          0\n",
       "dtype: int64"
      ]
     },
     "execution_count": 24,
     "metadata": {},
     "output_type": "execute_result"
    }
   ],
   "source": [
    "no_id = df_documents.query(\"filename.isna()\")\n",
    "no_id.count()"
   ]
  },
  {
   "cell_type": "code",
   "execution_count": 25,
   "id": "rational-parliament",
   "metadata": {
    "scrolled": true
   },
   "outputs": [
    {
     "name": "stderr",
     "output_type": "stream",
     "text": [
      "<ipython-input-25-486920bfed04>:1: FutureWarning: The default value of regex will change from True to False in a future version.\n",
      "  df_documents['bi_key'] = df_documents['filename'].str.replace(\".pdf\", \"\")\n"
     ]
    },
    {
     "data": {
      "text/html": [
       "<div>\n",
       "<style scoped>\n",
       "    .dataframe tbody tr th:only-of-type {\n",
       "        vertical-align: middle;\n",
       "    }\n",
       "\n",
       "    .dataframe tbody tr th {\n",
       "        vertical-align: top;\n",
       "    }\n",
       "\n",
       "    .dataframe thead th {\n",
       "        text-align: right;\n",
       "    }\n",
       "</style>\n",
       "<table border=\"1\" class=\"dataframe\">\n",
       "  <thead>\n",
       "    <tr style=\"text-align: right;\">\n",
       "      <th></th>\n",
       "      <th>document_id</th>\n",
       "      <th>filename</th>\n",
       "      <th>bi_key</th>\n",
       "    </tr>\n",
       "  </thead>\n",
       "  <tbody>\n",
       "    <tr>\n",
       "      <th>0</th>\n",
       "      <td>0866586</td>\n",
       "      <td>S-6528722.pdf</td>\n",
       "      <td>S-6528722</td>\n",
       "    </tr>\n",
       "    <tr>\n",
       "      <th>1</th>\n",
       "      <td>9088556</td>\n",
       "      <td>S-6519734.pdf</td>\n",
       "      <td>S-6519734</td>\n",
       "    </tr>\n",
       "    <tr>\n",
       "      <th>2</th>\n",
       "      <td>5279982</td>\n",
       "      <td>S-5147334.pdf</td>\n",
       "      <td>S-5147334</td>\n",
       "    </tr>\n",
       "    <tr>\n",
       "      <th>3</th>\n",
       "      <td>0980537</td>\n",
       "      <td>S-8491118.pdf</td>\n",
       "      <td>S-8491118</td>\n",
       "    </tr>\n",
       "    <tr>\n",
       "      <th>4</th>\n",
       "      <td>0920733</td>\n",
       "      <td>S-8055391.pdf</td>\n",
       "      <td>S-8055391</td>\n",
       "    </tr>\n",
       "    <tr>\n",
       "      <th>...</th>\n",
       "      <td>...</td>\n",
       "      <td>...</td>\n",
       "      <td>...</td>\n",
       "    </tr>\n",
       "    <tr>\n",
       "      <th>11995</th>\n",
       "      <td>7956603</td>\n",
       "      <td>S-1564406.pdf</td>\n",
       "      <td>S-1564406</td>\n",
       "    </tr>\n",
       "    <tr>\n",
       "      <th>11996</th>\n",
       "      <td>4205051</td>\n",
       "      <td>S-7187401.pdf</td>\n",
       "      <td>S-7187401</td>\n",
       "    </tr>\n",
       "    <tr>\n",
       "      <th>11997</th>\n",
       "      <td>5083442</td>\n",
       "      <td>S-0130822.pdf</td>\n",
       "      <td>S-0130822</td>\n",
       "    </tr>\n",
       "    <tr>\n",
       "      <th>11998</th>\n",
       "      <td>1331597</td>\n",
       "      <td>S-3111757.pdf</td>\n",
       "      <td>S-3111757</td>\n",
       "    </tr>\n",
       "    <tr>\n",
       "      <th>11999</th>\n",
       "      <td>1430313</td>\n",
       "      <td>S-4379353.pdf</td>\n",
       "      <td>S-4379353</td>\n",
       "    </tr>\n",
       "  </tbody>\n",
       "</table>\n",
       "<p>12000 rows × 3 columns</p>\n",
       "</div>"
      ],
      "text/plain": [
       "      document_id       filename     bi_key\n",
       "0         0866586  S-6528722.pdf  S-6528722\n",
       "1         9088556  S-6519734.pdf  S-6519734\n",
       "2         5279982  S-5147334.pdf  S-5147334\n",
       "3         0980537  S-8491118.pdf  S-8491118\n",
       "4         0920733  S-8055391.pdf  S-8055391\n",
       "...           ...            ...        ...\n",
       "11995     7956603  S-1564406.pdf  S-1564406\n",
       "11996     4205051  S-7187401.pdf  S-7187401\n",
       "11997     5083442  S-0130822.pdf  S-0130822\n",
       "11998     1331597  S-3111757.pdf  S-3111757\n",
       "11999     1430313  S-4379353.pdf  S-4379353\n",
       "\n",
       "[12000 rows x 3 columns]"
      ]
     },
     "execution_count": 25,
     "metadata": {},
     "output_type": "execute_result"
    }
   ],
   "source": [
    "df_documents['bi_key'] = df_documents['filename'].str.replace(\".pdf\", \"\")\n",
    "df_documents"
   ]
  },
  {
   "cell_type": "code",
   "execution_count": 26,
   "id": "optional-interest",
   "metadata": {},
   "outputs": [
    {
     "data": {
      "text/html": [
       "<div>\n",
       "<style scoped>\n",
       "    .dataframe tbody tr th:only-of-type {\n",
       "        vertical-align: middle;\n",
       "    }\n",
       "\n",
       "    .dataframe tbody tr th {\n",
       "        vertical-align: top;\n",
       "    }\n",
       "\n",
       "    .dataframe thead th {\n",
       "        text-align: right;\n",
       "    }\n",
       "</style>\n",
       "<table border=\"1\" class=\"dataframe\">\n",
       "  <thead>\n",
       "    <tr style=\"text-align: right;\">\n",
       "      <th></th>\n",
       "      <th>document_id</th>\n",
       "      <th>filename</th>\n",
       "      <th>bi_key</th>\n",
       "    </tr>\n",
       "  </thead>\n",
       "  <tbody>\n",
       "    <tr>\n",
       "      <th>8</th>\n",
       "      <td>6064585</td>\n",
       "      <td>None</td>\n",
       "      <td>None</td>\n",
       "    </tr>\n",
       "    <tr>\n",
       "      <th>15</th>\n",
       "      <td>1068326</td>\n",
       "      <td>None</td>\n",
       "      <td>None</td>\n",
       "    </tr>\n",
       "    <tr>\n",
       "      <th>21</th>\n",
       "      <td>4876752</td>\n",
       "      <td>None</td>\n",
       "      <td>None</td>\n",
       "    </tr>\n",
       "    <tr>\n",
       "      <th>25</th>\n",
       "      <td>3932819</td>\n",
       "      <td>None</td>\n",
       "      <td>None</td>\n",
       "    </tr>\n",
       "    <tr>\n",
       "      <th>30</th>\n",
       "      <td>3920938</td>\n",
       "      <td>None</td>\n",
       "      <td>None</td>\n",
       "    </tr>\n",
       "    <tr>\n",
       "      <th>...</th>\n",
       "      <td>...</td>\n",
       "      <td>...</td>\n",
       "      <td>...</td>\n",
       "    </tr>\n",
       "    <tr>\n",
       "      <th>11940</th>\n",
       "      <td>9338287</td>\n",
       "      <td>None</td>\n",
       "      <td>None</td>\n",
       "    </tr>\n",
       "    <tr>\n",
       "      <th>11942</th>\n",
       "      <td>8742035</td>\n",
       "      <td>None</td>\n",
       "      <td>None</td>\n",
       "    </tr>\n",
       "    <tr>\n",
       "      <th>11950</th>\n",
       "      <td>5806787</td>\n",
       "      <td>None</td>\n",
       "      <td>None</td>\n",
       "    </tr>\n",
       "    <tr>\n",
       "      <th>11960</th>\n",
       "      <td>5042190</td>\n",
       "      <td>None</td>\n",
       "      <td>None</td>\n",
       "    </tr>\n",
       "    <tr>\n",
       "      <th>11961</th>\n",
       "      <td>2269644</td>\n",
       "      <td>None</td>\n",
       "      <td>None</td>\n",
       "    </tr>\n",
       "  </tbody>\n",
       "</table>\n",
       "<p>1162 rows × 3 columns</p>\n",
       "</div>"
      ],
      "text/plain": [
       "      document_id filename bi_key\n",
       "8         6064585     None   None\n",
       "15        1068326     None   None\n",
       "21        4876752     None   None\n",
       "25        3932819     None   None\n",
       "30        3920938     None   None\n",
       "...           ...      ...    ...\n",
       "11940     9338287     None   None\n",
       "11942     8742035     None   None\n",
       "11950     5806787     None   None\n",
       "11960     5042190     None   None\n",
       "11961     2269644     None   None\n",
       "\n",
       "[1162 rows x 3 columns]"
      ]
     },
     "execution_count": 26,
     "metadata": {},
     "output_type": "execute_result"
    }
   ],
   "source": [
    "no_id = df_documents.query(\"bi_key.isna()\")\n",
    "no_id"
   ]
  },
  {
   "cell_type": "code",
   "execution_count": 27,
   "id": "inappropriate-apache",
   "metadata": {},
   "outputs": [
    {
     "data": {
      "text/html": [
       "<div>\n",
       "<style scoped>\n",
       "    .dataframe tbody tr th:only-of-type {\n",
       "        vertical-align: middle;\n",
       "    }\n",
       "\n",
       "    .dataframe tbody tr th {\n",
       "        vertical-align: top;\n",
       "    }\n",
       "\n",
       "    .dataframe thead th {\n",
       "        text-align: right;\n",
       "    }\n",
       "</style>\n",
       "<table border=\"1\" class=\"dataframe\">\n",
       "  <thead>\n",
       "    <tr style=\"text-align: right;\">\n",
       "      <th></th>\n",
       "      <th>filename</th>\n",
       "      <th>bi_key</th>\n",
       "    </tr>\n",
       "  </thead>\n",
       "  <tbody>\n",
       "    <tr>\n",
       "      <th>0</th>\n",
       "      <td>S-6971604</td>\n",
       "      <td>S-6971604</td>\n",
       "    </tr>\n",
       "    <tr>\n",
       "      <th>1</th>\n",
       "      <td>S-3131884</td>\n",
       "      <td>S-3131884</td>\n",
       "    </tr>\n",
       "    <tr>\n",
       "      <th>2</th>\n",
       "      <td>S-7211175</td>\n",
       "      <td>S-7211175</td>\n",
       "    </tr>\n",
       "    <tr>\n",
       "      <th>3</th>\n",
       "      <td>S-2489640</td>\n",
       "      <td>S-2489640</td>\n",
       "    </tr>\n",
       "    <tr>\n",
       "      <th>4</th>\n",
       "      <td>S-8347155</td>\n",
       "      <td>S-8347155</td>\n",
       "    </tr>\n",
       "    <tr>\n",
       "      <th>...</th>\n",
       "      <td>...</td>\n",
       "      <td>...</td>\n",
       "    </tr>\n",
       "    <tr>\n",
       "      <th>11012</th>\n",
       "      <td>S-2799449</td>\n",
       "      <td>S-2799449</td>\n",
       "    </tr>\n",
       "    <tr>\n",
       "      <th>11013</th>\n",
       "      <td>S-6567099</td>\n",
       "      <td>S-6567099</td>\n",
       "    </tr>\n",
       "    <tr>\n",
       "      <th>11014</th>\n",
       "      <td>S-0569952</td>\n",
       "      <td>S-0569952</td>\n",
       "    </tr>\n",
       "    <tr>\n",
       "      <th>11015</th>\n",
       "      <td>S-4688876</td>\n",
       "      <td>S-4688876</td>\n",
       "    </tr>\n",
       "    <tr>\n",
       "      <th>11016</th>\n",
       "      <td>S-1650701</td>\n",
       "      <td>S-1650701</td>\n",
       "    </tr>\n",
       "  </tbody>\n",
       "</table>\n",
       "<p>11017 rows × 2 columns</p>\n",
       "</div>"
      ],
      "text/plain": [
       "        filename     bi_key\n",
       "0      S-6971604  S-6971604\n",
       "1      S-3131884  S-3131884\n",
       "2      S-7211175  S-7211175\n",
       "3      S-2489640  S-2489640\n",
       "4      S-8347155  S-8347155\n",
       "...          ...        ...\n",
       "11012  S-2799449  S-2799449\n",
       "11013  S-6567099  S-6567099\n",
       "11014  S-0569952  S-0569952\n",
       "11015  S-4688876  S-4688876\n",
       "11016  S-1650701  S-1650701\n",
       "\n",
       "[11017 rows x 2 columns]"
      ]
     },
     "execution_count": 27,
     "metadata": {},
     "output_type": "execute_result"
    }
   ],
   "source": [
    "df_bi_cube['bi_key'] = df_bi_cube['filename']\n",
    "df_bi_cube"
   ]
  },
  {
   "cell_type": "code",
   "execution_count": 28,
   "id": "together-router",
   "metadata": {},
   "outputs": [
    {
     "data": {
      "text/html": [
       "<div>\n",
       "<style scoped>\n",
       "    .dataframe tbody tr th:only-of-type {\n",
       "        vertical-align: middle;\n",
       "    }\n",
       "\n",
       "    .dataframe tbody tr th {\n",
       "        vertical-align: top;\n",
       "    }\n",
       "\n",
       "    .dataframe thead th {\n",
       "        text-align: right;\n",
       "    }\n",
       "</style>\n",
       "<table border=\"1\" class=\"dataframe\">\n",
       "  <thead>\n",
       "    <tr style=\"text-align: right;\">\n",
       "      <th></th>\n",
       "      <th>bi_key</th>\n",
       "      <th>document_id</th>\n",
       "      <th>filename_docs</th>\n",
       "      <th>filename_cube</th>\n",
       "    </tr>\n",
       "  </thead>\n",
       "  <tbody>\n",
       "    <tr>\n",
       "      <th>0</th>\n",
       "      <td>S-0000983</td>\n",
       "      <td>5913672</td>\n",
       "      <td>S-0000983.pdf</td>\n",
       "      <td>S-0000983</td>\n",
       "    </tr>\n",
       "    <tr>\n",
       "      <th>1</th>\n",
       "      <td>S-0001676</td>\n",
       "      <td>NaN</td>\n",
       "      <td>NaN</td>\n",
       "      <td>S-0001676</td>\n",
       "    </tr>\n",
       "    <tr>\n",
       "      <th>2</th>\n",
       "      <td>S-0001873</td>\n",
       "      <td>NaN</td>\n",
       "      <td>NaN</td>\n",
       "      <td>S-0001873</td>\n",
       "    </tr>\n",
       "    <tr>\n",
       "      <th>3</th>\n",
       "      <td>S-0002272</td>\n",
       "      <td>8472504</td>\n",
       "      <td>S-0002272.pdf</td>\n",
       "      <td>NaN</td>\n",
       "    </tr>\n",
       "    <tr>\n",
       "      <th>4</th>\n",
       "      <td>S-0003180</td>\n",
       "      <td>9503068</td>\n",
       "      <td>S-0003180.pdf</td>\n",
       "      <td>S-0003180</td>\n",
       "    </tr>\n",
       "    <tr>\n",
       "      <th>...</th>\n",
       "      <td>...</td>\n",
       "      <td>...</td>\n",
       "      <td>...</td>\n",
       "      <td>...</td>\n",
       "    </tr>\n",
       "    <tr>\n",
       "      <th>13999</th>\n",
       "      <td>None</td>\n",
       "      <td>9338287</td>\n",
       "      <td>None</td>\n",
       "      <td>NaN</td>\n",
       "    </tr>\n",
       "    <tr>\n",
       "      <th>14000</th>\n",
       "      <td>None</td>\n",
       "      <td>8742035</td>\n",
       "      <td>None</td>\n",
       "      <td>NaN</td>\n",
       "    </tr>\n",
       "    <tr>\n",
       "      <th>14001</th>\n",
       "      <td>None</td>\n",
       "      <td>5806787</td>\n",
       "      <td>None</td>\n",
       "      <td>NaN</td>\n",
       "    </tr>\n",
       "    <tr>\n",
       "      <th>14002</th>\n",
       "      <td>None</td>\n",
       "      <td>5042190</td>\n",
       "      <td>None</td>\n",
       "      <td>NaN</td>\n",
       "    </tr>\n",
       "    <tr>\n",
       "      <th>14003</th>\n",
       "      <td>None</td>\n",
       "      <td>2269644</td>\n",
       "      <td>None</td>\n",
       "      <td>NaN</td>\n",
       "    </tr>\n",
       "  </tbody>\n",
       "</table>\n",
       "<p>14004 rows × 4 columns</p>\n",
       "</div>"
      ],
      "text/plain": [
       "          bi_key document_id  filename_docs filename_cube\n",
       "0      S-0000983     5913672  S-0000983.pdf     S-0000983\n",
       "1      S-0001676         NaN            NaN     S-0001676\n",
       "2      S-0001873         NaN            NaN     S-0001873\n",
       "3      S-0002272     8472504  S-0002272.pdf           NaN\n",
       "4      S-0003180     9503068  S-0003180.pdf     S-0003180\n",
       "...          ...         ...            ...           ...\n",
       "13999       None     9338287           None           NaN\n",
       "14000       None     8742035           None           NaN\n",
       "14001       None     5806787           None           NaN\n",
       "14002       None     5042190           None           NaN\n",
       "14003       None     2269644           None           NaN\n",
       "\n",
       "[14004 rows x 4 columns]"
      ]
     },
     "execution_count": 28,
     "metadata": {},
     "output_type": "execute_result"
    }
   ],
   "source": [
    "df_outer = (df_documents.set_index('bi_key')\n",
    ".join(df_bi_cube.set_index(\"bi_key\"), \n",
    "      lsuffix = \"_docs\", \n",
    "      rsuffix = \"_cube\",\n",
    "     how = \"outer\")\n",
    ".reset_index())\n",
    "df_outer\n",
    "# df_outer['bi_key'].notnull().value_counts()"
   ]
  },
  {
   "cell_type": "code",
   "execution_count": 29,
   "id": "contrary-belly",
   "metadata": {},
   "outputs": [
    {
     "name": "stdout",
     "output_type": "stream",
     "text": [
      "14004\n",
      "11017\n",
      "12000\n"
     ]
    }
   ],
   "source": [
    "print(len(df_outer))\n",
    "print(len(df_bi_cube))\n",
    "print(len(df_documents))"
   ]
  },
  {
   "cell_type": "code",
   "execution_count": 30,
   "id": "regional-basement",
   "metadata": {},
   "outputs": [],
   "source": [
    "test = {(True, False):1}\n",
    "test.get((True, True))"
   ]
  },
  {
   "cell_type": "code",
   "execution_count": 31,
   "id": "neither-pound",
   "metadata": {},
   "outputs": [
    {
     "data": {
      "text/html": [
       "<div>\n",
       "<style scoped>\n",
       "    .dataframe tbody tr th:only-of-type {\n",
       "        vertical-align: middle;\n",
       "    }\n",
       "\n",
       "    .dataframe tbody tr th {\n",
       "        vertical-align: top;\n",
       "    }\n",
       "\n",
       "    .dataframe thead th {\n",
       "        text-align: right;\n",
       "    }\n",
       "</style>\n",
       "<table border=\"1\" class=\"dataframe\">\n",
       "  <thead>\n",
       "    <tr style=\"text-align: right;\">\n",
       "      <th></th>\n",
       "      <th>False</th>\n",
       "      <th>True</th>\n",
       "    </tr>\n",
       "  </thead>\n",
       "  <tbody>\n",
       "    <tr>\n",
       "      <th>True</th>\n",
       "      <td>3</td>\n",
       "      <td>1</td>\n",
       "    </tr>\n",
       "    <tr>\n",
       "      <th>False</th>\n",
       "      <td>4</td>\n",
       "      <td>2</td>\n",
       "    </tr>\n",
       "  </tbody>\n",
       "</table>\n",
       "</div>"
      ],
      "text/plain": [
       "       False  True \n",
       "True       3      1\n",
       "False      4      2"
      ]
     },
     "execution_count": 31,
     "metadata": {},
     "output_type": "execute_result"
    }
   ],
   "source": [
    "lookup_dict = {True : \n",
    "               {True: 1,\n",
    "                False :2},\n",
    "               False:\n",
    "               {True: 3,\n",
    "               False: 4}}\n",
    " \n",
    "pd.DataFrame.from_records(lookup_dict)"
   ]
  },
  {
   "cell_type": "code",
   "execution_count": 32,
   "id": "regulation-spencer",
   "metadata": {},
   "outputs": [
    {
     "data": {
      "text/plain": [
       "'In Both'"
      ]
     },
     "execution_count": 32,
     "metadata": {},
     "output_type": "execute_result"
    }
   ],
   "source": [
    "lookup = {(True, True): \"In Both\", \n",
    "          (True, False): \"In collected docs but not from bi_cube\" ,\n",
    "          (False, True): \"In BI Cube but not collected\",\n",
    "          (False, False): \"No filename for collected doc; no match to bi_cube\"              \n",
    "          \n",
    "}\n",
    "lookup.get((True,True))"
   ]
  },
  {
   "cell_type": "code",
   "execution_count": 33,
   "id": "competitive-coordination",
   "metadata": {},
   "outputs": [
    {
     "data": {
      "text/html": [
       "<div>\n",
       "<style scoped>\n",
       "    .dataframe tbody tr th:only-of-type {\n",
       "        vertical-align: middle;\n",
       "    }\n",
       "\n",
       "    .dataframe tbody tr th {\n",
       "        vertical-align: top;\n",
       "    }\n",
       "\n",
       "    .dataframe thead th {\n",
       "        text-align: right;\n",
       "    }\n",
       "</style>\n",
       "<table border=\"1\" class=\"dataframe\">\n",
       "  <thead>\n",
       "    <tr style=\"text-align: right;\">\n",
       "      <th></th>\n",
       "      <th></th>\n",
       "      <th>var</th>\n",
       "    </tr>\n",
       "    <tr>\n",
       "      <th>filename_docs</th>\n",
       "      <th>filename_cube</th>\n",
       "      <th></th>\n",
       "    </tr>\n",
       "  </thead>\n",
       "  <tbody>\n",
       "    <tr>\n",
       "      <th rowspan=\"2\" valign=\"top\">True</th>\n",
       "      <th>True</th>\n",
       "      <td>In Both</td>\n",
       "    </tr>\n",
       "    <tr>\n",
       "      <th>False</th>\n",
       "      <td>In collected docs but not from bi_cube</td>\n",
       "    </tr>\n",
       "    <tr>\n",
       "      <th rowspan=\"2\" valign=\"top\">False</th>\n",
       "      <th>True</th>\n",
       "      <td>In BI Cube but not collected</td>\n",
       "    </tr>\n",
       "    <tr>\n",
       "      <th>False</th>\n",
       "      <td>No filename for collected doc; no match to bi_...</td>\n",
       "    </tr>\n",
       "  </tbody>\n",
       "</table>\n",
       "</div>"
      ],
      "text/plain": [
       "                                                                           var\n",
       "filename_docs filename_cube                                                   \n",
       "True          True                                                     In Both\n",
       "              False                     In collected docs but not from bi_cube\n",
       "False         True                                In BI Cube but not collected\n",
       "              False          No filename for collected doc; no match to bi_..."
      ]
     },
     "execution_count": 33,
     "metadata": {},
     "output_type": "execute_result"
    }
   ],
   "source": [
    "df_lookup = pd.DataFrame.from_dict(lookup, orient = \"index\", columns = [\"var\"])\n",
    "df_lookup.index = pd.MultiIndex.from_tuples(df_lookup.index)\n",
    "df_lookup.index.names = [\"filename_docs\", \"filename_cube\"]\n",
    "df_lookup"
   ]
  },
  {
   "cell_type": "code",
   "execution_count": 34,
   "id": "shaped-plaintiff",
   "metadata": {},
   "outputs": [],
   "source": [
    "df = pd.DataFrame(lookup, index = [1])\n",
    "df = df.melt(var_name = [\"filename_docs\", \"filename_cube\"]).set_index([\"filename_docs\", \"filename_cube\"])"
   ]
  },
  {
   "cell_type": "code",
   "execution_count": 35,
   "id": "circular-merchant",
   "metadata": {},
   "outputs": [
    {
     "data": {
      "text/plain": [
       "False"
      ]
     },
     "execution_count": 35,
     "metadata": {},
     "output_type": "execute_result"
    }
   ],
   "source": [
    "lookup.get(True, False)"
   ]
  },
  {
   "cell_type": "code",
   "execution_count": 36,
   "id": "hawaiian-ferry",
   "metadata": {},
   "outputs": [
    {
     "data": {
      "text/plain": [
       "Text(0, 0.5, '')"
      ]
     },
     "execution_count": 36,
     "metadata": {},
     "output_type": "execute_result"
    },
    {
     "data": {
      "image/png": "[encoded data removed]",
      "text/plain": [
       "<Figure size 432x288 with 1 Axes>"
      ]
     },
     "metadata": {
      "needs_background": "light"
     },
     "output_type": "display_data"
    }
   ],
   "source": [
    "(df_outer\n",
    ".notnull()\n",
    ".groupby(['filename_docs', 'filename_cube'])\n",
    ".size()\n",
    ".to_frame(name='count')\n",
    "# .reset_index()\n",
    "# # .assign(x = lambda df: [(row['filename_docs'], row['filename_cube']) for index, row in df.iterrows()])\n",
    "# # .assign(y = lambda df: df['x'].apply(lambda x: lookup.get(x))) \n",
    "# .set_index([\"filename_docs\", \"filename_cube\"])\n",
    " .join(df_lookup)\n",
    " .set_index(\"var\")\n",
    " .plot.\n",
    " barh(title = \"Comparison of BI Cube and documents\")\n",
    " .set_ylabel(\"\")\n",
    ")"
   ]
  },
  {
   "cell_type": "markdown",
   "id": "urban-croatia",
   "metadata": {},
   "source": [
    "## Assessment Breakdown"
   ]
  },
  {
   "cell_type": "code",
   "execution_count": 37,
   "id": "delayed-navigator",
   "metadata": {},
   "outputs": [
    {
     "data": {
      "text/plain": [
       "2383"
      ]
     },
     "execution_count": 37,
     "metadata": {},
     "output_type": "execute_result"
    }
   ],
   "source": [
    "category = [\"Full\", \"Assessment\", None]\n",
    "weights = [.5,.4,.1]\n",
    "\n",
    "random.choices(category, weights )\n",
    "\n",
    "records = []\n",
    "\n",
    "for i in range(0,100):\n",
    "\n",
    "    x_id = get_id()\n",
    "    \n",
    "    for i in range(0, random.randint(1,45)):\n",
    "\n",
    "        record = {\"id\": x_id, \n",
    "                  \"category\" : random.choices(category, weights)[0]}\n",
    "\n",
    "        records.append(record)\n",
    "        \n",
    "len(records)   "
   ]
  },
  {
   "cell_type": "code",
   "execution_count": 38,
   "id": "sound-memorabilia",
   "metadata": {},
   "outputs": [],
   "source": [
    "for i in range(0,100):\n",
    "\n",
    "    x_id = get_id()\n",
    "    \n",
    "    for i in range(0, random.randint(1,45)):\n",
    "\n",
    "        record = {\"id\": x_id, \n",
    "                  \"category\" : 'Full'}\n",
    "\n",
    "        records.append(record)"
   ]
  },
  {
   "cell_type": "code",
   "execution_count": 39,
   "id": "biological-tragedy",
   "metadata": {},
   "outputs": [],
   "source": [
    "for i in range(0,100):\n",
    "\n",
    "    x_id = get_id()\n",
    "    \n",
    "    for i in range(0, random.randint(1,45)):\n",
    "\n",
    "        record = {\"id\": x_id, \n",
    "                  \"category\" : 'Assessment'}\n",
    "\n",
    "        records.append(record)"
   ]
  },
  {
   "cell_type": "code",
   "execution_count": 40,
   "id": "elect-rebel",
   "metadata": {},
   "outputs": [
    {
     "data": {
      "text/plain": [
       "7155"
      ]
     },
     "execution_count": 40,
     "metadata": {},
     "output_type": "execute_result"
    }
   ],
   "source": [
    "len(records)"
   ]
  },
  {
   "cell_type": "code",
   "execution_count": 41,
   "id": "usual-weather",
   "metadata": {},
   "outputs": [
    {
     "data": {
      "text/plain": [
       "Full                3682\n",
       "Assessment          3257\n",
       "missing category     216\n",
       "Name: category, dtype: int64"
      ]
     },
     "execution_count": 41,
     "metadata": {},
     "output_type": "execute_result"
    }
   ],
   "source": [
    "df_records = (pd.DataFrame(records)\n",
    ".fillna(\"missing category\")\n",
    "             )\n",
    "df_records['category'].value_counts()"
   ]
  },
  {
   "cell_type": "code",
   "execution_count": 42,
   "id": "blocked-lawyer",
   "metadata": {},
   "outputs": [
    {
     "data": {
      "text/plain": [
       "466.85"
      ]
     },
     "execution_count": 42,
     "metadata": {},
     "output_type": "execute_result"
    }
   ],
   "source": [
    "(1183.7 - 100 - 150)/2"
   ]
  },
  {
   "cell_type": "code",
   "execution_count": 43,
   "id": "seven-bangkok",
   "metadata": {},
   "outputs": [
    {
     "data": {
      "text/plain": [
       "[Text(0, 0.5, 'Percent of Reports in Assessment'),\n",
       " Text(0.5, 0, 'Count of IDs'),\n",
       " Text(0.5, 1.0, 'ID Profile')]"
      ]
     },
     "execution_count": 43,
     "metadata": {},
     "output_type": "execute_result"
    },
    {
     "data": {
      "image/png": "[encoded data removed]",
      "text/plain": [
       "<Figure size 432x288 with 1 Axes>"
      ]
     },
     "metadata": {
      "needs_background": "light"
     },
     "output_type": "display_data"
    }
   ],
   "source": [
    "(df_records\n",
    " .groupby(['id', 'category'])\n",
    " .size()\n",
    " .to_frame(name = \"value\")\n",
    " .groupby('id')\n",
    " .transform(lambda x: x/sum(x))\n",
    " .pivot_table(index = 'id',\n",
    "             columns = 'category',\n",
    "             values = 'value')\n",
    " .fillna(0)\n",
    " [['Assessment']]\n",
    " .assign(cuts = lambda x: pd.cut(x['Assessment'], [-1 ,0  ,.5,.9999, 1],\n",
    "                                         labels = [\"All Fulls\", \"More Fulls\", \"More Assessment\", \"All Assessments\"]))\n",
    " ['cuts']\n",
    " .value_counts()\n",
    " .sort_index()\n",
    " .plot\n",
    " .barh(title = \"\")\n",
    " .set(ylabel = \"Percent of Reports in Assessment\",\n",
    "      xlabel = \"Count of IDs\",\n",
    "      title = \"ID Profile\")\n",
    " \n",
    "\n",
    " \n",
    " \n",
    ")"
   ]
  },
  {
   "cell_type": "code",
   "execution_count": 44,
   "id": "wrapped-genetics",
   "metadata": {},
   "outputs": [
    {
     "data": {
      "text/plain": [
       "[Text(0, 0.5, ''), Text(0.5, 0, 'Count of IDs'), Text(0.5, 1.0, 'ID Profile')]"
      ]
     },
     "execution_count": 44,
     "metadata": {},
     "output_type": "execute_result"
    },
    {
     "data": {
      "image/png": "[encoded data removed]",
      "text/plain": [
       "<Figure size 432x288 with 1 Axes>"
      ]
     },
     "metadata": {
      "needs_background": "light"
     },
     "output_type": "display_data"
    }
   ],
   "source": [
    "(df_records\n",
    " .groupby(['id', 'category'])\n",
    " .size()\n",
    " .to_frame(name = \"value\")\n",
    " .groupby('id')\n",
    " .transform(lambda x: x/sum(x))\n",
    " .pivot_table(index = 'id',\n",
    "             columns = 'category',\n",
    "             values = 'value')\n",
    " .fillna(0)\n",
    " [['Assessment']]\n",
    " .assign(cuts = lambda x: pd.cut(x['Assessment'], [-1 ,0, .9999, 1],\n",
    "                                         labels = [\"All Fulls\", \"Mixed\", \"All Assessments\"]))\n",
    " ['cuts']\n",
    " .value_counts()\n",
    " .sort_index()\n",
    " .plot\n",
    " .barh(title = \"\")\n",
    " .set(ylabel = \"\",\n",
    "      xlabel = \"Count of IDs\",\n",
    "      title = \"ID Profile\")\n",
    " )"
   ]
  },
  {
   "cell_type": "code",
   "execution_count": 73,
   "id": "billion-wagon",
   "metadata": {},
   "outputs": [
    {
     "data": {
      "text/html": [
       "<div>\n",
       "<style scoped>\n",
       "    .dataframe tbody tr th:only-of-type {\n",
       "        vertical-align: middle;\n",
       "    }\n",
       "\n",
       "    .dataframe tbody tr th {\n",
       "        vertical-align: top;\n",
       "    }\n",
       "\n",
       "    .dataframe thead th {\n",
       "        text-align: right;\n",
       "    }\n",
       "</style>\n",
       "<table border=\"1\" class=\"dataframe\">\n",
       "  <thead>\n",
       "    <tr style=\"text-align: right;\">\n",
       "      <th></th>\n",
       "      <th>type</th>\n",
       "      <th>value</th>\n",
       "    </tr>\n",
       "  </thead>\n",
       "  <tbody>\n",
       "    <tr>\n",
       "      <th>0</th>\n",
       "      <td>All Fulls</td>\n",
       "      <td>104</td>\n",
       "    </tr>\n",
       "    <tr>\n",
       "      <th>1</th>\n",
       "      <td>Mixed</td>\n",
       "      <td>96</td>\n",
       "    </tr>\n",
       "    <tr>\n",
       "      <th>2</th>\n",
       "      <td>All Assessments</td>\n",
       "      <td>100</td>\n",
       "    </tr>\n",
       "  </tbody>\n",
       "</table>\n",
       "</div>"
      ],
      "text/plain": [
       "              type  value\n",
       "0        All Fulls    104\n",
       "1            Mixed     96\n",
       "2  All Assessments    100"
      ]
     },
     "execution_count": 73,
     "metadata": {},
     "output_type": "execute_result"
    }
   ],
   "source": [
    "df_bokeh = (df_records\n",
    " .groupby(['id', 'category'])\n",
    " .size()\n",
    " .to_frame(name = \"value\")\n",
    " .groupby('id')\n",
    " .transform(lambda x: x/sum(x))\n",
    " .pivot_table(index = 'id',\n",
    "             columns = 'category',\n",
    "             values = 'value')\n",
    " .fillna(0)\n",
    " [['Assessment']]\n",
    " .assign(cuts = lambda x: pd.cut(x['Assessment'], [-1 ,0, .9999, 1],\n",
    "                                         labels = [\"All Fulls\", \"Mixed\", \"All Assessments\"]))\n",
    " ['cuts']\n",
    " .value_counts()\n",
    " .sort_index()\n",
    " .reset_index(name = \"value\")\n",
    " .rename({\"index\": \"type\"}, axis = 1)\n",
    " \n",
    ")\n",
    "\n",
    "df_bokeh"
   ]
  },
  {
   "cell_type": "code",
   "execution_count": 53,
   "id": "induced-freedom",
   "metadata": {},
   "outputs": [],
   "source": [
    "from bokeh.io import output_notebook, show\n",
    "from bokeh.plotting import figure\n",
    "from bokeh.models import ColumnDataSource\n"
   ]
  },
  {
   "cell_type": "code",
   "execution_count": 48,
   "id": "hourly-prison",
   "metadata": {},
   "outputs": [
    {
     "data": {
      "text/html": [
       "\n",
       "    <div class=\"bk-root\">\n",
       "        <a href=\"https://bokeh.org\" target=\"_blank\" class=\"bk-logo bk-logo-small bk-logo-notebook\"></a>\n",
       "        <span id=\"1002\">Loading BokehJS ...</span>\n",
       "    </div>"
      ]
     },
     "metadata": {},
     "output_type": "display_data"
    },
    {
     "data": {
      "application/javascript": [
       "\n",
       "(function(root) {\n",
       "  function now() {\n",
       "    return new Date();\n",
       "  }\n",
       "\n",
       "  var force = true;\n",
       "\n",
       "  if (typeof root._bokeh_onload_callbacks === \"undefined\" || force === true) {\n",
       "    root._bokeh_onload_callbacks = [];\n",
       "    root._bokeh_is_loading = undefined;\n",
       "  }\n",
       "\n",
       "  var JS_MIME_TYPE = 'application/javascript';\n",
       "  var HTML_MIME_TYPE = 'text/html';\n",
       "  var EXEC_MIME_TYPE = 'application/vnd.bokehjs_exec.v0+json';\n",
       "  var CLASS_NAME = 'output_bokeh rendered_html';\n",
       "\n",
       "  /**\n",
       "   * Render data to the DOM node\n",
       "   */\n",
       "  function render(props, node) {\n",
       "    var script = document.createElement(\"script\");\n",
       "    node.appendChild(script);\n",
       "  }\n",
       "\n",
       "  /**\n",
       "   * Handle when an output is cleared or removed\n",
       "   */\n",
       "  function handleClearOutput(event, handle) {\n",
       "    var cell = handle.cell;\n",
       "\n",
       "    var id = cell.output_area._bokeh_element_id;\n",
       "    var server_id = cell.output_area._bokeh_server_id;\n",
       "    // Clean up Bokeh references\n",
       "    if (id != null && id in Bokeh.index) {\n",
       "      Bokeh.index[id].model.document.clear();\n",
       "      delete Bokeh.index[id];\n",
       "    }\n",
       "\n",
       "    if (server_id !== undefined) {\n",
       "      // Clean up Bokeh references\n",
       "      var cmd = \"from bokeh.io.state import curstate; print(curstate().uuid_to_server['\" + server_id + \"'].get_sessions()[0].document.roots[0]._id)\";\n",
       "      cell.notebook.kernel.execute(cmd, {\n",
       "        iopub: {\n",
       "          output: function(msg) {\n",
       "            var id = msg.content.text.trim();\n",
       "            if (id in Bokeh.index) {\n",
       "              Bokeh.index[id].model.document.clear();\n",
       "              delete Bokeh.index[id];\n",
       "            }\n",
       "          }\n",
       "        }\n",
       "      });\n",
       "      // Destroy server and session\n",
       "      var cmd = \"import bokeh.io.notebook as ion; ion.destroy_server('\" + server_id + \"')\";\n",
       "      cell.notebook.kernel.execute(cmd);\n",
       "    }\n",
       "  }\n",
       "\n",
       "  /**\n",
       "   * Handle when a new output is added\n",
       "   */\n",
       "  function handleAddOutput(event, handle) {\n",
       "    var output_area = handle.output_area;\n",
       "    var output = handle.output;\n",
       "\n",
       "    // limit handleAddOutput to display_data with EXEC_MIME_TYPE content only\n",
       "    if ((output.output_type != \"display_data\") || (!output.data.hasOwnProperty(EXEC_MIME_TYPE))) {\n",
       "      return\n",
       "    }\n",
       "\n",
       "    var toinsert = output_area.element.find(\".\" + CLASS_NAME.split(' ')[0]);\n",
       "\n",
       "    if (output.metadata[EXEC_MIME_TYPE][\"id\"] !== undefined) {\n",
       "      toinsert[toinsert.length - 1].firstChild.textContent = output.data[JS_MIME_TYPE];\n",
       "      // store reference to embed id on output_area\n",
       "      output_area._bokeh_element_id = output.metadata[EXEC_MIME_TYPE][\"id\"];\n",
       "    }\n",
       "    if (output.metadata[EXEC_MIME_TYPE][\"server_id\"] !== undefined) {\n",
       "      var bk_div = document.createElement(\"div\");\n",
       "      bk_div.innerHTML = output.data[HTML_MIME_TYPE];\n",
       "      var script_attrs = bk_div.children[0].attributes;\n",
       "      for (var i = 0; i < script_attrs.length; i++) {\n",
       "        toinsert[toinsert.length - 1].firstChild.setAttribute(script_attrs[i].name, script_attrs[i].value);\n",
       "        toinsert[toinsert.length - 1].firstChild.textContent = bk_div.children[0].textContent\n",
       "      }\n",
       "      // store reference to server id on output_area\n",
       "      output_area._bokeh_server_id = output.metadata[EXEC_MIME_TYPE][\"server_id\"];\n",
       "    }\n",
       "  }\n",
       "\n",
       "  function register_renderer(events, OutputArea) {\n",
       "\n",
       "    function append_mime(data, metadata, element) {\n",
       "      // create a DOM node to render to\n",
       "      var toinsert = this.create_output_subarea(\n",
       "        metadata,\n",
       "        CLASS_NAME,\n",
       "        EXEC_MIME_TYPE\n",
       "      );\n",
       "      this.keyboard_manager.register_events(toinsert);\n",
       "      // Render to node\n",
       "      var props = {data: data, metadata: metadata[EXEC_MIME_TYPE]};\n",
       "      render(props, toinsert[toinsert.length - 1]);\n",
       "      element.append(toinsert);\n",
       "      return toinsert\n",
       "    }\n",
       "\n",
       "    /* Handle when an output is cleared or removed */\n",
       "    events.on('clear_output.CodeCell', handleClearOutput);\n",
       "    events.on('delete.Cell', handleClearOutput);\n",
       "\n",
       "    /* Handle when a new output is added */\n",
       "    events.on('output_added.OutputArea', handleAddOutput);\n",
       "\n",
       "    /**\n",
       "     * Register the mime type and append_mime function with output_area\n",
       "     */\n",
       "    OutputArea.prototype.register_mime_type(EXEC_MIME_TYPE, append_mime, {\n",
       "      /* Is output safe? */\n",
       "      safe: true,\n",
       "      /* Index of renderer in `output_area.display_order` */\n",
       "      index: 0\n",
       "    });\n",
       "  }\n",
       "\n",
       "  // register the mime type if in Jupyter Notebook environment and previously unregistered\n",
       "  if (root.Jupyter !== undefined) {\n",
       "    var events = require('base/js/events');\n",
       "    var OutputArea = require('notebook/js/outputarea').OutputArea;\n",
       "\n",
       "    if (OutputArea.prototype.mime_types().indexOf(EXEC_MIME_TYPE) == -1) {\n",
       "      register_renderer(events, OutputArea);\n",
       "    }\n",
       "  }\n",
       "\n",
       "  \n",
       "  if (typeof (root._bokeh_timeout) === \"undefined\" || force === true) {\n",
       "    root._bokeh_timeout = Date.now() + 5000;\n",
       "    root._bokeh_failed_load = false;\n",
       "  }\n",
       "\n",
       "  var NB_LOAD_WARNING = {'data': {'text/html':\n",
       "     \"<div style='background-color: #fdd'>\\n\"+\n",
       "     \"<p>\\n\"+\n",
       "     \"BokehJS does not appear to have successfully loaded. If loading BokehJS from CDN, this \\n\"+\n",
       "     \"may be due to a slow or bad network connection. Possible fixes:\\n\"+\n",
       "     \"</p>\\n\"+\n",
       "     \"<ul>\\n\"+\n",
       "     \"<li>re-rerun `output_notebook()` to attempt to load from CDN again, or</li>\\n\"+\n",
       "     \"<li>use INLINE resources instead, as so:</li>\\n\"+\n",
       "     \"</ul>\\n\"+\n",
       "     \"<code>\\n\"+\n",
       "     \"from bokeh.resources import INLINE\\n\"+\n",
       "     \"output_notebook(resources=INLINE)\\n\"+\n",
       "     \"</code>\\n\"+\n",
       "     \"</div>\"}};\n",
       "\n",
       "  function display_loaded() {\n",
       "    var el = document.getElementById(\"1002\");\n",
       "    if (el != null) {\n",
       "      el.textContent = \"BokehJS is loading...\";\n",
       "    }\n",
       "    if (root.Bokeh !== undefined) {\n",
       "      if (el != null) {\n",
       "        el.textContent = \"BokehJS \" + root.Bokeh.version + \" successfully loaded.\";\n",
       "      }\n",
       "    } else if (Date.now() < root._bokeh_timeout) {\n",
       "      setTimeout(display_loaded, 100)\n",
       "    }\n",
       "  }\n",
       "\n",
       "\n",
       "  function run_callbacks() {\n",
       "    try {\n",
       "      root._bokeh_onload_callbacks.forEach(function(callback) {\n",
       "        if (callback != null)\n",
       "          callback();\n",
       "      });\n",
       "    } finally {\n",
       "      delete root._bokeh_onload_callbacks\n",
       "    }\n",
       "    console.debug(\"Bokeh: all callbacks have finished\");\n",
       "  }\n",
       "\n",
       "  function load_libs(css_urls, js_urls, callback) {\n",
       "    if (css_urls == null) css_urls = [];\n",
       "    if (js_urls == null) js_urls = [];\n",
       "\n",
       "    root._bokeh_onload_callbacks.push(callback);\n",
       "    if (root._bokeh_is_loading > 0) {\n",
       "      console.debug(\"Bokeh: BokehJS is being loaded, scheduling callback at\", now());\n",
       "      return null;\n",
       "    }\n",
       "    if (js_urls == null || js_urls.length === 0) {\n",
       "      run_callbacks();\n",
       "      return null;\n",
       "    }\n",
       "    console.debug(\"Bokeh: BokehJS not loaded, scheduling load and callback at\", now());\n",
       "    root._bokeh_is_loading = css_urls.length + js_urls.length;\n",
       "\n",
       "    function on_load() {\n",
       "      root._bokeh_is_loading--;\n",
       "      if (root._bokeh_is_loading === 0) {\n",
       "        console.debug(\"Bokeh: all BokehJS libraries/stylesheets loaded\");\n",
       "        run_callbacks()\n",
       "      }\n",
       "    }\n",
       "\n",
       "    function on_error() {\n",
       "      console.error(\"failed to load \" + url);\n",
       "    }\n",
       "\n",
       "    for (var i = 0; i < css_urls.length; i++) {\n",
       "      var url = css_urls[i];\n",
       "      const element = document.createElement(\"link\");\n",
       "      element.onload = on_load;\n",
       "      element.onerror = on_error;\n",
       "      element.rel = \"stylesheet\";\n",
       "      element.type = \"text/css\";\n",
       "      element.href = url;\n",
       "      console.debug(\"Bokeh: injecting link tag for BokehJS stylesheet: \", url);\n",
       "      document.body.appendChild(element);\n",
       "    }\n",
       "\n",
       "    const hashes = {\"https://cdn.bokeh.org/bokeh/release/bokeh-2.2.3.min.js\": \"T2yuo9Oe71Cz/I4X9Ac5+gpEa5a8PpJCDlqKYO0CfAuEszu1JrXLl8YugMqYe3sM\", \"https://cdn.bokeh.org/bokeh/release/bokeh-widgets-2.2.3.min.js\": \"98GDGJ0kOMCUMUePhksaQ/GYgB3+NH9h996V88sh3aOiUNX3N+fLXAtry6xctSZ6\", \"https://cdn.bokeh.org/bokeh/release/bokeh-tables-2.2.3.min.js\": \"89bArO+nlbP3sgakeHjCo1JYxYR5wufVgA3IbUvDY+K7w4zyxJqssu7wVnfeKCq8\"};\n",
       "\n",
       "    for (var i = 0; i < js_urls.length; i++) {\n",
       "      var url = js_urls[i];\n",
       "      var element = document.createElement('script');\n",
       "      element.onload = on_load;\n",
       "      element.onerror = on_error;\n",
       "      element.async = false;\n",
       "      element.src = url;\n",
       "      if (url in hashes) {\n",
       "        element.crossOrigin = \"anonymous\";\n",
       "        element.integrity = \"sha384-\" + hashes[url];\n",
       "      }\n",
       "      console.debug(\"Bokeh: injecting script tag for BokehJS library: \", url);\n",
       "      document.head.appendChild(element);\n",
       "    }\n",
       "  };\n",
       "\n",
       "  function inject_raw_css(css) {\n",
       "    const element = document.createElement(\"style\");\n",
       "    element.appendChild(document.createTextNode(css));\n",
       "    document.body.appendChild(element);\n",
       "  }\n",
       "\n",
       "  \n",
       "  var js_urls = [\"https://cdn.bokeh.org/bokeh/release/bokeh-2.2.3.min.js\", \"https://cdn.bokeh.org/bokeh/release/bokeh-widgets-2.2.3.min.js\", \"https://cdn.bokeh.org/bokeh/release/bokeh-tables-2.2.3.min.js\"];\n",
       "  var css_urls = [];\n",
       "  \n",
       "\n",
       "  var inline_js = [\n",
       "    function(Bokeh) {\n",
       "      Bokeh.set_log_level(\"info\");\n",
       "    },\n",
       "    function(Bokeh) {\n",
       "    \n",
       "    \n",
       "    }\n",
       "  ];\n",
       "\n",
       "  function run_inline_js() {\n",
       "    \n",
       "    if (root.Bokeh !== undefined || force === true) {\n",
       "      \n",
       "    for (var i = 0; i < inline_js.length; i++) {\n",
       "      inline_js[i].call(root, root.Bokeh);\n",
       "    }\n",
       "    if (force === true) {\n",
       "        display_loaded();\n",
       "      }} else if (Date.now() < root._bokeh_timeout) {\n",
       "      setTimeout(run_inline_js, 100);\n",
       "    } else if (!root._bokeh_failed_load) {\n",
       "      console.log(\"Bokeh: BokehJS failed to load within specified timeout.\");\n",
       "      root._bokeh_failed_load = true;\n",
       "    } else if (force !== true) {\n",
       "      var cell = $(document.getElementById(\"1002\")).parents('.cell').data().cell;\n",
       "      cell.output_area.append_execute_result(NB_LOAD_WARNING)\n",
       "    }\n",
       "\n",
       "  }\n",
       "\n",
       "  if (root._bokeh_is_loading === 0) {\n",
       "    console.debug(\"Bokeh: BokehJS loaded, going straight to plotting\");\n",
       "    run_inline_js();\n",
       "  } else {\n",
       "    load_libs(css_urls, js_urls, function() {\n",
       "      console.debug(\"Bokeh: BokehJS plotting callback run at\", now());\n",
       "      run_inline_js();\n",
       "    });\n",
       "  }\n",
       "}(window));"
      ],
      "application/vnd.bokehjs_load.v0+json": "\n(function(root) {\n  function now() {\n    return new Date();\n  }\n\n  var force = true;\n\n  if (typeof root._bokeh_onload_callbacks === \"undefined\" || force === true) {\n    root._bokeh_onload_callbacks = [];\n    root._bokeh_is_loading = undefined;\n  }\n\n  \n\n  \n  if (typeof (root._bokeh_timeout) === \"undefined\" || force === true) {\n    root._bokeh_timeout = Date.now() + 5000;\n    root._bokeh_failed_load = false;\n  }\n\n  var NB_LOAD_WARNING = {'data': {'text/html':\n     \"<div style='background-color: #fdd'>\\n\"+\n     \"<p>\\n\"+\n     \"BokehJS does not appear to have successfully loaded. If loading BokehJS from CDN, this \\n\"+\n     \"may be due to a slow or bad network connection. Possible fixes:\\n\"+\n     \"</p>\\n\"+\n     \"<ul>\\n\"+\n     \"<li>re-rerun `output_notebook()` to attempt to load from CDN again, or</li>\\n\"+\n     \"<li>use INLINE resources instead, as so:</li>\\n\"+\n     \"</ul>\\n\"+\n     \"<code>\\n\"+\n     \"from bokeh.resources import INLINE\\n\"+\n     \"output_notebook(resources=INLINE)\\n\"+\n     \"</code>\\n\"+\n     \"</div>\"}};\n\n  function display_loaded() {\n    var el = document.getElementById(\"1002\");\n    if (el != null) {\n      el.textContent = \"BokehJS is loading...\";\n    }\n    if (root.Bokeh !== undefined) {\n      if (el != null) {\n        el.textContent = \"BokehJS \" + root.Bokeh.version + \" successfully loaded.\";\n      }\n    } else if (Date.now() < root._bokeh_timeout) {\n      setTimeout(display_loaded, 100)\n    }\n  }\n\n\n  function run_callbacks() {\n    try {\n      root._bokeh_onload_callbacks.forEach(function(callback) {\n        if (callback != null)\n          callback();\n      });\n    } finally {\n      delete root._bokeh_onload_callbacks\n    }\n    console.debug(\"Bokeh: all callbacks have finished\");\n  }\n\n  function load_libs(css_urls, js_urls, callback) {\n    if (css_urls == null) css_urls = [];\n    if (js_urls == null) js_urls = [];\n\n    root._bokeh_onload_callbacks.push(callback);\n    if (root._bokeh_is_loading > 0) {\n      console.debug(\"Bokeh: BokehJS is being loaded, scheduling callback at\", now());\n      return null;\n    }\n    if (js_urls == null || js_urls.length === 0) {\n      run_callbacks();\n      return null;\n    }\n    console.debug(\"Bokeh: BokehJS not loaded, scheduling load and callback at\", now());\n    root._bokeh_is_loading = css_urls.length + js_urls.length;\n\n    function on_load() {\n      root._bokeh_is_loading--;\n      if (root._bokeh_is_loading === 0) {\n        console.debug(\"Bokeh: all BokehJS libraries/stylesheets loaded\");\n        run_callbacks()\n      }\n    }\n\n    function on_error() {\n      console.error(\"failed to load \" + url);\n    }\n\n    for (var i = 0; i < css_urls.length; i++) {\n      var url = css_urls[i];\n      const element = document.createElement(\"link\");\n      element.onload = on_load;\n      element.onerror = on_error;\n      element.rel = \"stylesheet\";\n      element.type = \"text/css\";\n      element.href = url;\n      console.debug(\"Bokeh: injecting link tag for BokehJS stylesheet: \", url);\n      document.body.appendChild(element);\n    }\n\n    const hashes = {\"https://cdn.bokeh.org/bokeh/release/bokeh-2.2.3.min.js\": \"T2yuo9Oe71Cz/I4X9Ac5+gpEa5a8PpJCDlqKYO0CfAuEszu1JrXLl8YugMqYe3sM\", \"https://cdn.bokeh.org/bokeh/release/bokeh-widgets-2.2.3.min.js\": \"98GDGJ0kOMCUMUePhksaQ/GYgB3+NH9h996V88sh3aOiUNX3N+fLXAtry6xctSZ6\", \"https://cdn.bokeh.org/bokeh/release/bokeh-tables-2.2.3.min.js\": \"89bArO+nlbP3sgakeHjCo1JYxYR5wufVgA3IbUvDY+K7w4zyxJqssu7wVnfeKCq8\"};\n\n    for (var i = 0; i < js_urls.length; i++) {\n      var url = js_urls[i];\n      var element = document.createElement('script');\n      element.onload = on_load;\n      element.onerror = on_error;\n      element.async = false;\n      element.src = url;\n      if (url in hashes) {\n        element.crossOrigin = \"anonymous\";\n        element.integrity = \"sha384-\" + hashes[url];\n      }\n      console.debug(\"Bokeh: injecting script tag for BokehJS library: \", url);\n      document.head.appendChild(element);\n    }\n  };\n\n  function inject_raw_css(css) {\n    const element = document.createElement(\"style\");\n    element.appendChild(document.createTextNode(css));\n    document.body.appendChild(element);\n  }\n\n  \n  var js_urls = [\"https://cdn.bokeh.org/bokeh/release/bokeh-2.2.3.min.js\", \"https://cdn.bokeh.org/bokeh/release/bokeh-widgets-2.2.3.min.js\", \"https://cdn.bokeh.org/bokeh/release/bokeh-tables-2.2.3.min.js\"];\n  var css_urls = [];\n  \n\n  var inline_js = [\n    function(Bokeh) {\n      Bokeh.set_log_level(\"info\");\n    },\n    function(Bokeh) {\n    \n    \n    }\n  ];\n\n  function run_inline_js() {\n    \n    if (root.Bokeh !== undefined || force === true) {\n      \n    for (var i = 0; i < inline_js.length; i++) {\n      inline_js[i].call(root, root.Bokeh);\n    }\n    if (force === true) {\n        display_loaded();\n      }} else if (Date.now() < root._bokeh_timeout) {\n      setTimeout(run_inline_js, 100);\n    } else if (!root._bokeh_failed_load) {\n      console.log(\"Bokeh: BokehJS failed to load within specified timeout.\");\n      root._bokeh_failed_load = true;\n    } else if (force !== true) {\n      var cell = $(document.getElementById(\"1002\")).parents('.cell').data().cell;\n      cell.output_area.append_execute_result(NB_LOAD_WARNING)\n    }\n\n  }\n\n  if (root._bokeh_is_loading === 0) {\n    console.debug(\"Bokeh: BokehJS loaded, going straight to plotting\");\n    run_inline_js();\n  } else {\n    load_libs(css_urls, js_urls, function() {\n      console.debug(\"Bokeh: BokehJS plotting callback run at\", now());\n      run_inline_js();\n    });\n  }\n}(window));"
     },
     "metadata": {},
     "output_type": "display_data"
    }
   ],
   "source": [
    "output_notebook()"
   ]
  },
  {
   "cell_type": "code",
   "execution_count": 80,
   "id": "negative-calgary",
   "metadata": {},
   "outputs": [
    {
     "data": {
      "text/plain": [
       "array(['All Fulls', 'Mixed', 'All Assessments'], dtype=object)"
      ]
     },
     "execution_count": 80,
     "metadata": {},
     "output_type": "execute_result"
    }
   ],
   "source": [
    "df_bokeh['type'].astype(str).values"
   ]
  },
  {
   "cell_type": "code",
   "execution_count": 102,
   "id": "atmospheric-smith",
   "metadata": {},
   "outputs": [
    {
     "data": {
      "text/html": [
       "\n",
       "\n",
       "\n",
       "\n",
       "\n",
       "\n",
       "  <div class=\"bk-root\" id=\"2a606a19-39e7-4faa-9899-2fa1f6ac4dbd\" data-root-id=\"3704\"></div>\n"
      ]
     },
     "metadata": {},
     "output_type": "display_data"
    },
    {
     "data": {
      "application/javascript": [
       "(function(root) {\n",
       "  function embed_document(root) {\n",
       "    \n",
       "  var docs_json = {\"8564af97-bd96-43b7-92cb-75413842e258\":{\"roots\":{\"references\":[{\"attributes\":{\"below\":[{\"id\":\"3715\"}],\"center\":[{\"id\":\"3718\"},{\"id\":\"3721\"}],\"left\":[{\"id\":\"3719\"}],\"renderers\":[{\"id\":\"3741\"}],\"title\":{\"id\":\"3705\"},\"toolbar\":{\"id\":\"3730\"},\"x_range\":{\"id\":\"3707\"},\"x_scale\":{\"id\":\"3711\"},\"y_range\":{\"id\":\"3709\"},\"y_scale\":{\"id\":\"3713\"}},\"id\":\"3704\",\"subtype\":\"Figure\",\"type\":\"Plot\"},{\"attributes\":{\"formatter\":{\"id\":\"3881\"},\"ticker\":{\"id\":\"3720\"}},\"id\":\"3719\",\"type\":\"CategoricalAxis\"},{\"attributes\":{},\"id\":\"3886\",\"type\":\"Selection\"},{\"attributes\":{},\"id\":\"3713\",\"type\":\"CategoricalScale\"},{\"attributes\":{\"formatter\":{\"id\":\"3883\"},\"ticker\":{\"id\":\"3716\"}},\"id\":\"3715\",\"type\":\"LinearAxis\"},{\"attributes\":{\"fill_color\":{\"value\":\"#1f77b4\"},\"height\":{\"value\":0.3},\"line_color\":{\"value\":\"#1f77b4\"},\"right\":{\"field\":\"value\"},\"y\":{\"field\":\"type\"}},\"id\":\"3739\",\"type\":\"HBar\"},{\"attributes\":{\"bottom_units\":\"screen\",\"fill_alpha\":0.5,\"fill_color\":\"lightgrey\",\"left_units\":\"screen\",\"level\":\"overlay\",\"line_alpha\":1.0,\"line_color\":\"black\",\"line_dash\":[4,4],\"line_width\":2,\"right_units\":\"screen\",\"top_units\":\"screen\"},\"id\":\"3728\",\"type\":\"BoxAnnotation\"},{\"attributes\":{},\"id\":\"3885\",\"type\":\"UnionRenderers\"},{\"attributes\":{\"axis\":{\"id\":\"3715\"},\"ticker\":null},\"id\":\"3718\",\"type\":\"Grid\"},{\"attributes\":{\"source\":{\"id\":\"3703\"}},\"id\":\"3742\",\"type\":\"CDSView\"},{\"attributes\":{},\"id\":\"3727\",\"type\":\"HelpTool\"},{\"attributes\":{\"active_drag\":\"auto\",\"active_inspect\":\"auto\",\"active_multi\":null,\"active_scroll\":\"auto\",\"active_tap\":\"auto\",\"tools\":[{\"id\":\"3722\"},{\"id\":\"3723\"},{\"id\":\"3724\"},{\"id\":\"3725\"},{\"id\":\"3726\"},{\"id\":\"3727\"},{\"id\":\"3729\"}]},\"id\":\"3730\",\"type\":\"Toolbar\"},{\"attributes\":{},\"id\":\"3723\",\"type\":\"WheelZoomTool\"},{\"attributes\":{\"factors\":[\"All Fulls\",\"Mixed\",\"All Assessments\"]},\"id\":\"3709\",\"type\":\"FactorRange\"},{\"attributes\":{},\"id\":\"3707\",\"type\":\"DataRange1d\"},{\"attributes\":{},\"id\":\"3711\",\"type\":\"LinearScale\"},{\"attributes\":{\"text\":\"title\"},\"id\":\"3705\",\"type\":\"Title\"},{\"attributes\":{\"callback\":null,\"tooltips\":[[\"Type\",\"@type\"],[\"Value\",\"(@value)\"]]},\"id\":\"3729\",\"type\":\"HoverTool\"},{\"attributes\":{},\"id\":\"3881\",\"type\":\"CategoricalTickFormatter\"},{\"attributes\":{\"axis\":{\"id\":\"3719\"},\"dimension\":1,\"ticker\":null},\"id\":\"3721\",\"type\":\"Grid\"},{\"attributes\":{},\"id\":\"3883\",\"type\":\"BasicTickFormatter\"},{\"attributes\":{},\"id\":\"3720\",\"type\":\"CategoricalTicker\"},{\"attributes\":{\"data_source\":{\"id\":\"3703\"},\"glyph\":{\"id\":\"3739\"},\"hover_glyph\":null,\"muted_glyph\":null,\"nonselection_glyph\":{\"id\":\"3740\"},\"selection_glyph\":null,\"view\":{\"id\":\"3742\"}},\"id\":\"3741\",\"type\":\"GlyphRenderer\"},{\"attributes\":{},\"id\":\"3722\",\"type\":\"PanTool\"},{\"attributes\":{\"overlay\":{\"id\":\"3728\"}},\"id\":\"3724\",\"type\":\"BoxZoomTool\"},{\"attributes\":{},\"id\":\"3725\",\"type\":\"SaveTool\"},{\"attributes\":{\"fill_alpha\":{\"value\":0.1},\"fill_color\":{\"value\":\"#1f77b4\"},\"height\":{\"value\":0.3},\"line_alpha\":{\"value\":0.1},\"line_color\":{\"value\":\"#1f77b4\"},\"right\":{\"field\":\"value\"},\"y\":{\"field\":\"type\"}},\"id\":\"3740\",\"type\":\"HBar\"},{\"attributes\":{},\"id\":\"3726\",\"type\":\"ResetTool\"},{\"attributes\":{\"data\":{\"index\":[0,1,2],\"type\":[\"All Fulls\",\"Mixed\",\"All Assessments\"],\"value\":[104,96,100]},\"selected\":{\"id\":\"3886\"},\"selection_policy\":{\"id\":\"3885\"}},\"id\":\"3703\",\"type\":\"ColumnDataSource\"},{\"attributes\":{},\"id\":\"3716\",\"type\":\"BasicTicker\"}],\"root_ids\":[\"3704\"]},\"title\":\"Bokeh Application\",\"version\":\"2.2.3\"}};\n",
       "  var render_items = [{\"docid\":\"8564af97-bd96-43b7-92cb-75413842e258\",\"root_ids\":[\"3704\"],\"roots\":{\"3704\":\"2a606a19-39e7-4faa-9899-2fa1f6ac4dbd\"}}];\n",
       "  root.Bokeh.embed.embed_items_notebook(docs_json, render_items);\n",
       "\n",
       "  }\n",
       "  if (root.Bokeh !== undefined) {\n",
       "    embed_document(root);\n",
       "  } else {\n",
       "    var attempts = 0;\n",
       "    var timer = setInterval(function(root) {\n",
       "      if (root.Bokeh !== undefined) {\n",
       "        clearInterval(timer);\n",
       "        embed_document(root);\n",
       "      } else {\n",
       "        attempts++;\n",
       "        if (attempts > 100) {\n",
       "          clearInterval(timer);\n",
       "          console.log(\"Bokeh: ERROR: Unable to run BokehJS code because BokehJS library is missing\");\n",
       "        }\n",
       "      }\n",
       "    }, 10, root)\n",
       "  }\n",
       "})(window);"
      ],
      "application/vnd.bokehjs_exec.v0+json": ""
     },
     "metadata": {
      "application/vnd.bokehjs_exec.v0+json": {
       "id": "3704"
      }
     },
     "output_type": "display_data"
    }
   ],
   "source": [
    "source = ColumnDataSource(df_bokeh)\n",
    "\n",
    "\n",
    "tooltips = [\n",
    "    (\"Type\", \"@type\"),\n",
    "    (\"Value\", \"(@value)\")\n",
    "]\n",
    "\n",
    "# Set the x_range to the list of categories above\n",
    "p = figure(title=\"title\", y_range = df_bokeh['type'].astype(str),\n",
    "          tooltips = tooltips)\n",
    "\n",
    "# Categorical values can also be used as coordinates\n",
    "p.hbar(y = \"type\", right =\"value\", source = source, height = .3)\n",
    "\n",
    "show(p)"
   ]
  },
  {
   "cell_type": "code",
   "execution_count": 94,
   "id": "compressed-ordinary",
   "metadata": {},
   "outputs": [
    {
     "data": {
      "text/plain": [
       "73.97260273972603"
      ]
     },
     "execution_count": 94,
     "metadata": {},
     "output_type": "execute_result"
    }
   ],
   "source": [
    "per = .09/365\n",
    "\n",
    "5000 * per * 60\n"
   ]
  }
 ],
 "metadata": {
  "kernelspec": {
   "display_name": "Python 3",
   "language": "python",
   "name": "python3"
  },
  "language_info": {
   "codemirror_mode": {
    "name": "ipython",
    "version": 3
   },
   "file_extension": ".py",
   "mimetype": "text/x-python",
   "name": "python",
   "nbconvert_exporter": "python",
   "pygments_lexer": "ipython3",
   "version": "3.8.5"
  }
 },
 "nbformat": 4,
 "nbformat_minor": 5
}
